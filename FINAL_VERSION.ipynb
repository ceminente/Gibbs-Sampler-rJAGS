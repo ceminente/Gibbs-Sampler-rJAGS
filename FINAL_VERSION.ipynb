{
 "cells": [
  {
   "cell_type": "markdown",
   "metadata": {},
   "source": [
    "# ADVANCED STATISTICS FOR PHYSICS ANALYSIS, University of Padova\n",
    "\n",
    "__Authors:__\n",
    "\n",
    "- Clara Eminente (University of Padova)\n",
    "- Matteo Guida (University of Padova)\n",
    "\n",
    "__Supervised by:__\n",
    "\n",
    "- Professor Alberto Garfagnini (University of Padova, INFN)"
   ]
  },
  {
   "cell_type": "markdown",
   "metadata": {},
   "source": [
    "# Introduction"
   ]
  },
  {
   "cell_type": "markdown",
   "metadata": {},
   "source": [
    "In the following a spectrum coming from the combination of three sources and collected by a Germanium detector is investigated.\n",
    "</p>\n",
    "We recognize in the spectrum the following processes which are going to be analyzed. "
   ]
  },
  {
   "cell_type": "markdown",
   "metadata": {},
   "source": [
    "<img>\n",
    "<img src=\"IMMAGINE_COMMENTATA.png\",width=9000,height=9000>"
   ]
  },
  {
   "cell_type": "markdown",
   "metadata": {},
   "source": [
    "$\\begin{aligned}\n",
    "& \\text{AMERICIUM}  \\\\\n",
    "& ^{241\\!\\,}_{\\ 95}Am\\ \\overset{432.2y}{\\longrightarrow} \\ ^{237}_{\\ 93}Np~+~^{4}_{2}\\alpha^{2+} +\\gamma \\,\\,\\,\\, E_{\\gamma}=0.059 \\,\\, \\text{MeV} \\\\\n",
    "\\\\\n",
    "\\\\\n",
    "& \\text{COBALT}  \\\\\n",
    "& ^{60\\!\\,}_{\\ 27}Co\\ \\overset{5.27y}{\\longrightarrow} \\ ^{60}_{\\ 28}Ni~+~e^{-} + \\bar{\\nu}_{e} \\\\\n",
    "\\\\\n",
    "& ^{60}_{\\ 28}Ni {\\longrightarrow} \\ ^{60}_{\\ 28}Ni + \\gamma  \\,\\,\\,\\,\\,\\,\\,\\,\\,\\, E_{\\gamma}=1.17\\,\\, \\text{MeV} \\\\\n",
    "& ^{60}_{\\ 28}Ni {\\longrightarrow} \\ ^{60}_{\\ 28}Ni + \\gamma   \\,\\,\\,\\,\\,\\,\\,\\,\\,\\, E_{\\gamma}=1.33\\,\\, \\text{MeV}\n",
    "\\\\\n",
    "\\\\\n",
    "& \\text{CESIUM}  \\\\\n",
    "& ^{137\\!\\,}_{\\ 55}Cs\\ \\overset{ 30.17y}{\\longrightarrow} \\ ^{137}_{\\ 56}Ba~+~e^{-}+ \\bar{\\nu}_{e} \\\\\n",
    "& ^{137}_{\\ 56}Ba {\\longrightarrow} \\ ^{137}_{\\ 56}Ba + \\gamma   \\,\\,\\,\\,\\,\\,\\,\\,\\,\\, E_{\\gamma}=0.66\\,\\, \\text{MeV}\n",
    "\\end{aligned}$\n",
    "\n",
    "# Goal\n",
    "The existimation of the number of counts under the peaks due to the previous processes. "
   ]
  },
  {
   "cell_type": "markdown",
   "metadata": {},
   "source": [
    "# General analysis strategy"
   ]
  },
  {
   "cell_type": "markdown",
   "metadata": {},
   "source": [
    "We do not have a unique model to describe all the processes that are present in the spectrum at once.\n",
    "</p>\n",
    "</p>\n",
    "For all the processes analyzed we perform the following operations:\n",
    "    \n",
    "1. Consider a reduced range of channels\n",
    "2. Choose a peak shape function\n",
    "3. Choose a \"background\" function\n",
    "\n",
    "For the peak shape the function from which we start is Gaussian due to the energy resolution in the detector. We can make the model more complex studying the additional tail. \n",
    "\n",
    "The background in the region of the peak has 2 main components:\n",
    "1. Pulses related to radiation from other sources.\n",
    "2. Pulses from the desired $\\gamma$-rays, whose energy escapes from the sensitive volume of the detector.\n",
    "\n",
    "The best modeling function for the background is evaluated in each individual case.\n",
    "\n",
    "\n",
    "## Computational tools: JAGS\n",
    "\n",
    "In order to obtain a distribution for the number of counts we implemented a Gibbs sampler using the package rJAGS from which we extracted the Markov Chain Monte Carlo (MCMC) of the parameters of the chosen generative model.\n",
    "\n",
    "The generative model is evaluated in each individual case according to the shape of the peak and the background.\n",
    "\n",
    "The chosen noise (or measurement) model is a Poisson distribution as we know that once the energy (channel) is fixed the distribution of counts follows this kind of distribution with a mean value given by the value of generative model in that point. Thus:\n",
    "\\begin{equation*}\n",
    "p(n) = \\frac{\\lambda^{n}e^{-\\lambda}}{n!}\n",
    "\\end{equation*}\n",
    "- $\\lambda$ = value from generative model \n",
    "- n = measured value\n"
   ]
  },
  {
   "cell_type": "markdown",
   "metadata": {},
   "source": [
    "# SET UP"
   ]
  },
  {
   "cell_type": "markdown",
   "metadata": {},
   "source": [
    "## Libraries"
   ]
  },
  {
   "cell_type": "code",
   "execution_count": null,
   "metadata": {},
   "outputs": [],
   "source": [
    "library(ggplot2) \n",
    "library(rjags)\n",
    "library(repr)\n",
    "library(fBasics)\n",
    "library(latex2exp)"
   ]
  },
  {
   "cell_type": "markdown",
   "metadata": {},
   "source": [
    "## Data Loading"
   ]
  },
  {
   "cell_type": "code",
   "execution_count": null,
   "metadata": {},
   "outputs": [],
   "source": [
    "counts<-read.delim(\"B19036_AmCsCo_20180316.dat\", skip =2,header = TRUE)\n",
    "# ln.counts=log(as.numeric(counts[,1]))\n",
    "# par(mfrow=c(1,1))\n",
    "# plot(ln.counts[ln.counts>0], type = 'l', col='red', main = 'Am−Cs−Co spectra', xlab = 'ADC channel', ylab = \"log(counts)\",cex.main = 1.5)"
   ]
  },
  {
   "cell_type": "markdown",
   "metadata": {},
   "source": [
    "## Calibration Curve"
   ]
  },
  {
   "cell_type": "code",
   "execution_count": null,
   "metadata": {},
   "outputs": [],
   "source": [
    "ADC_channel <-seq(1, NROW(na.omit(counts)), by=1)\n",
    "dataset <- data.frame(counts,ADC_channel)\n",
    "colnames(dataset) <- c(\"Counts\",\"ADC_channel\")\n",
    "dataset<-dataset[!(dataset$Counts<=0),]\n",
    "plot(dataset$ADC_channel,dataset$Counts, type = 'l', col='red', main = 'Am−Cs−Co spectra', xlab = 'ADC channel [#]', ylab = \"Counts [#]\",cex.main = 1.5)"
   ]
  },
  {
   "cell_type": "code",
   "execution_count": null,
   "metadata": {
    "code_folding": []
   },
   "outputs": [],
   "source": [
    "range1 = dataset[!(dataset$ADC_channel<=70) & (dataset$ADC_channel<=200),]\n",
    "max1=range1[which.max(range1$Counts),\"ADC_channel\"]\n",
    "# cat(paste(\"max1 : \",which.max(range1$Counts),\"\\n\"))\n",
    "range2 = dataset[!(dataset$ADC_channel<=1500) & (dataset$ADC_channel<=2000),]\n",
    "max2=range2[which.max(range2$Counts),\"ADC_channel\"]\n",
    "# cat(paste(\"max2 : \",max2,\"\\n\"))\n",
    "range3 = dataset[!(dataset$ADC_channel<=3000) & (dataset$ADC_channel<=3100),]\n",
    "max3=range3[which.max(range3$Counts),\"ADC_channel\"]\n",
    "# cat(paste(\"max3 : \",max3,\"\\n\"))\n",
    "range4 = dataset[!(dataset$ADC_channel<=3200) & (dataset$ADC_channel<=3700),]\n",
    "max4=range4[which.max(range4$Counts),\"ADC_channel\"]\n",
    "# cat(paste(\"max4 : \",max4,\"\\n\"))\n",
    "range5 = dataset[!(dataset$ADC_channel<=6000) & (dataset$ADC_channel<=7000),]\n",
    "max5=range5[which.max(range5$Counts),\"ADC_channel\"]\n",
    "# cat(paste(\"max5 : \",max5,\"\\n\"))"
   ]
  },
  {
   "cell_type": "code",
   "execution_count": null,
   "metadata": {},
   "outputs": [],
   "source": [
    "a1<-c(158,1723,3052,3466,6504) #MEANS FOUND AFTERWARDS\n",
    "x<-c(max1,max2,max3,max4,max5) #THEORETHICAL MAX.ENERGY (IN CHANNEL)\n",
    "# error.x\n",
    "for(i in 1:length(x))\n",
    "{\n",
    "x1<-x-a1[i]\n",
    "y<-c(0.0595,0.6617,1.1732,1.3325,2.5057)\n",
    "data <- data.frame(x1,y)\n",
    "calibration_curve2 <- lm(y ~ x1, data=data) \n",
    "summary(calibration_curve2)\n",
    "ggplot(data, aes(x1, y)) +\n",
    "  geom_point(aes()) +\n",
    "  geom_smooth(method = \"lm\") + labs(y = \"Energy [MeV]\", x = \"ADC channel\")+ ggtitle(\" Calibration Curve\")+\n",
    "  theme(plot.title = element_text(size = 20, face = \"bold\",hjust = 0.5))+theme(panel.grid.major = element_blank(), panel.grid.minor = element_blank(),\n",
    "panel.background = element_blank(), axis.line = element_line(colour = \"black\"))\n",
    "energy.1 <- summary(calibration_curve2)$coefficients[1,1]\n",
    "error.energy.1 <- summary(calibration_curve2)$coefficients[1,2]\n",
    "cat(paste(energy.1*10**3, \" +-\",error.energy.1*10**3,\"\\n\" ))      \n",
    "\n",
    "}"
   ]
  },
  {
   "cell_type": "markdown",
   "metadata": {},
   "source": [
    "# SUMMARY TABLE"
   ]
  },
  {
   "cell_type": "code",
   "execution_count": null,
   "metadata": {},
   "outputs": [],
   "source": [
    "name <- c(\"Americium (Am)\",\"Cesium (Cs)\",\"Cobaltum1 (Co1)\",\"Cobaltum2 (Co2)\", \"Double Absorption (DA)\")\n",
    "argmax.channel <- c(max1,max2,max3,max4,max5)\n",
    "energy.MeV <- c(0.059,0.66,1.17,1.33,2.506)\n",
    "range.gauss.min <- c(120,1650,2950,3300,6000)\n",
    "range.gauss.max <- c(180,1790,3170,3600,6700)\n"
   ]
  },
  {
   "cell_type": "code",
   "execution_count": null,
   "metadata": {},
   "outputs": [],
   "source": [
    "summary.table <- data.frame(name,argmax.channel,energy.MeV,range.gauss.min,range.gauss.max)\n",
    "row.names(summary.table) <- c(\"Am\",\"Cs\",\"Co1\",\"Co2\",\"DA\")\n",
    "summary.table"
   ]
  },
  {
   "cell_type": "markdown",
   "metadata": {},
   "source": [
    "# FUNCTIONS"
   ]
  },
  {
   "cell_type": "markdown",
   "metadata": {},
   "source": [
    "## Generative Model Functions "
   ]
  },
  {
   "cell_type": "code",
   "execution_count": null,
   "metadata": {},
   "outputs": [],
   "source": [
    "Gaussian.func <-function(x,mu,sigma,N){\n",
    "    return((N/sqrt(2*pi*sigma*sigma)*exp((-(x-mu)*(x-mu))/(2*sigma*sigma))))\n",
    "}"
   ]
  },
  {
   "cell_type": "code",
   "execution_count": null,
   "metadata": {},
   "outputs": [],
   "source": [
    "Gauss.Sig.func <- function(x, c.1, c.2, c.mu, N, mu, sigma, offset){\n",
    "    return( (c.1/(1+exp(c.2*(x-c.mu)))) + (N/sqrt(2*pi*sigma*sigma)*exp((-(x-mu)*(x-mu))/(2*sigma*sigma))) + offset)\n",
    "}"
   ]
  },
  {
   "cell_type": "code",
   "execution_count": null,
   "metadata": {},
   "outputs": [],
   "source": [
    "Routti.Prussin.peak<-function(z,J,A,mu,sigma)\n",
    "    {\n",
    "    ifelse(z < mu - J,  A/(sigma)*exp(J*(2*z - 2*mu + J)/(2*sigma*sigma)),\n",
    "           N/(sqrt(2*pi)*sigma)*exp((-(z-mu)*(z-mu))/(2*sigma*sigma)))\n",
    "    }"
   ]
  },
  {
   "cell_type": "code",
   "execution_count": null,
   "metadata": {},
   "outputs": [],
   "source": [
    "Gauss.line.func <- function(x,slope, offset, N, mu, sigma){\n",
    "    return( (N/sqrt(2*pi*sigma*sigma)*exp((-(x-mu)*(x-mu))/(2*sigma*sigma))) + (x-mu)*tan(slope) + offset)\n",
    "}"
   ]
  },
  {
   "cell_type": "code",
   "execution_count": null,
   "metadata": {},
   "outputs": [],
   "source": [
    "Gauss.exp.func <- function(x,slope, offset, N, mu, sigma){\n",
    "    return( (N/sqrt(2*pi*sigma*sigma)*exp((-(x-mu)*(x-mu))/(2*sigma*sigma))) + exp((x-mu)*tan(slope) + offset))\n",
    "}"
   ]
  },
  {
   "cell_type": "code",
   "execution_count": null,
   "metadata": {},
   "outputs": [],
   "source": [
    "piecewise<-function(z,J,A,c.1,c.2,c.mu,mu,offset,sigma)\n",
    "    {\n",
    "    ifelse(z < mu - J,(c.1/(1 + exp(c.2*(z - c.mu))) + offset +  A/(sigma)*exp(J*(2*z - 2*mu + J)/(2*sigma*sigma))),\n",
    "           (c.1/(1 + exp(c.2*(z - c.mu))) + offset + A/(sigma)*exp((-(z-mu)*(z-mu))/(2*sigma*sigma))))\n",
    "    }\n"
   ]
  },
  {
   "cell_type": "markdown",
   "metadata": {},
   "source": [
    "## Plotting functions"
   ]
  },
  {
   "cell_type": "code",
   "execution_count": null,
   "metadata": {},
   "outputs": [],
   "source": [
    "plot.func <- function(x.points, y.points, extracted, sigma, title){\n",
    "    \n",
    "    options(repr.plot.width=10, repr.plot.height=7)\n",
    "    plot(x.points, extracted,col=\"navy\", main=title)\n",
    "    points(x.points, y.points, col=\"red\")\n",
    "    #arrows(x.points, extracted-sigma, x.points, extracted+sigma, length=0.05, angle=90, code=3, col=\"navy\")\n",
    "    legend(\"topright\",legend=c(\"Generated\",\"Data\"),col=c(\"navy\",\"red\"),pch=15)\n",
    "   \n",
    "}"
   ]
  },
  {
   "cell_type": "code",
   "execution_count": null,
   "metadata": {},
   "outputs": [],
   "source": [
    "plot.func.total <- function(x.points, y.points, extracted, extracted.mode, sigma, sigma.mode, title){\n",
    "    \n",
    "    options(repr.plot.width=10, repr.plot.height=7)\n",
    "    plot(x.points, extracted,col=\"navy\", main=title)\n",
    "    points(x.points, y.points, col=\"red\")\n",
    "    arrows(x.points, extracted-sigma, x.points, extracted+sigma, length=0.05, angle=90, code=3, col=\"navy\")\n",
    "    \n",
    "    points(x.points, extracted.mode, col=\"darkgoldenrod1\")\n",
    "    arrows(x.points, extracted.mode-sigma.mode, x.points, extracted.mode+sigma.mode, length=0.05, angle=90, code=3, col=\"darkgoldenrod1\")\n",
    "    \n",
    "    \n",
    "    legend(\"topright\",legend=c(\"Generated\",\"Data\",\"Generated\\nmode\"),col=c(\"navy\",\"red\",\"darkgoldenrod1\"),pch=15)\n",
    "   \n",
    "}"
   ]
  },
  {
   "cell_type": "code",
   "execution_count": null,
   "metadata": {},
   "outputs": [],
   "source": [
    "plot.func.total.1 <- function(x.points, y.points, extracted, extracted.mode, extracted.mean, sigma, title){\n",
    "    \n",
    "    options(repr.plot.width=10, repr.plot.height=7)\n",
    "    \n",
    "    y.lim=max(c(max(y.points)+sqrt(max(extracted)),max(extracted.mode),max(extracted),max(extracted.mean)))\n",
    "    \n",
    "    plot(x.points, y.points, col=\"navy\", main=title, ylim=c(0,y.lim),pch=0.1,xlab=\"Channel[#]\",ylab=\"Counts[#]\")\n",
    "    arrows(x.points, y.points-sqrt(extracted), x.points, y.points+sqrt(extracted), length=0.05, angle=90, code=3, col=\"navy\")\n",
    "        \n",
    "    points(x.points, extracted, col=\"red\", type=\"l\",lwd=3, lty=4)\n",
    "    points(x.points, extracted.mode, col=\"darkgoldenrod1\", type=\"l\",lwd=3, lty=2)\n",
    "    points(x.points, extracted.mean, col=\"darkolivegreen4\", type=\"l\",lwd=3, lty=3)\n",
    "    \n",
    "    \n",
    "    \n",
    "    legend(\"topleft\",legend=c(TeX(\"$Data[i]  \\\\, ±  \\\\,\\\\sqrt{generated[i]}$\"),\"Generated\",\"Generated mode\", \"Generated mean\"),col=c(\"navy\",\"red\",\"darkgoldenrod1\",\"darkolivegreen4\"),pch=15)\n",
    "   \n",
    "}"
   ]
  },
  {
   "cell_type": "code",
   "execution_count": null,
   "metadata": {},
   "outputs": [],
   "source": [
    "plot.correlations <- function(chain.df,mfrow){\n",
    "    options(repr.plot.width=15, repr.plot.height=15)\n",
    "    par(mfrow=mfrow)\n",
    "    for(i in 1:(length(chain.df)-1)){\n",
    "        for (j in (i+1):(length(chain.df))){\n",
    "            points.i <- chain.df[,i]\n",
    "            points.j <- chain.df[,j]\n",
    "            plot(points.i,points.j, xlab=names(chain.df)[i], ylab=names(chain.df)[j], col=\"skyblue\",\n",
    "                cex.lab=1.3, cex.axis=1.3, cex.main=1.3, cex.sub=1.3)\n",
    "  \n",
    "        }\n",
    "    }\n",
    "}"
   ]
  },
  {
   "cell_type": "code",
   "execution_count": null,
   "metadata": {},
   "outputs": [],
   "source": [
    "plot.autoc <- function(chain.df,mfrow){\n",
    "    options(repr.plot.width=10, repr.plot.height=7)\n",
    "    par(mfrow=mfrow)\n",
    "    for (param in names(chain.df)){\n",
    "        single.chain <- chain.df[param]\n",
    "        acf.param <- acf(single.chain, plot=TRUE,col=\"palevioletred\",relative=TRUE)\n",
    "\n",
    "    }    \n",
    "    \n",
    "}"
   ]
  },
  {
   "cell_type": "code",
   "execution_count": null,
   "metadata": {},
   "outputs": [],
   "source": [
    "plot.stats <- function(chain,param,leg=TRUE, digits=3, return.verbose=FALSE){\n",
    "\n",
    "    param.chain <- chain[,param]\n",
    "    h <- hist(param.chain,plot=FALSE)\n",
    "    hdf <- HPDinterval(param.chain, 0.68)\n",
    "    color.cut <- cut(h$breaks,c(-Inf, hdf[,\"lower\"], hdf[,\"upper\"], +Inf))\n",
    "    mode <- format(h$mids[which.max(h$density)], digits=digits)\n",
    "    \n",
    "    kde <- density(param.chain)\n",
    "    \n",
    "    y.lim <- max(max(kde$y),max(h$density))\n",
    "    \n",
    "    if(return.verbose == TRUE){\n",
    "        out <- c(mode,hdf[,\"lower\"], hdf[,\"upper\"])\n",
    "        return (out)\n",
    "    }\n",
    "    else{\n",
    "        #histogram and mode\n",
    "        plot(h, freq=FALSE,col=c(\"lightskyblue1\",\"lightskyblue3\",\"lightskyblue1\")[color.cut],\n",
    "             xlab=paste(\"value of \",param), main=paste(param, \" chain\"),\n",
    "            cex.lab=2, cex.axis=2, cex.main=2, cex.sub=2,\n",
    "                  ylim=c(0,y.lim))\n",
    "\n",
    "        #KDE\n",
    "        points(kde, type=\"l\", col=\"navy\", lwd=3)\n",
    "\n",
    "        #mean and mode\n",
    "        mean <- format(mean(param.chain), digits=digits)\n",
    "        abline(v = mean, col=\"darkgoldenrod1\", lwd=3, lty=2)\n",
    "        abline(v = mode, col=\"palevioletred\", lwd=3, lty=3)\n",
    "\n",
    "        if (leg != FALSE){\n",
    "            #op <- par(cex = 0.8)\n",
    "            legend(\"topright\", c(\"Normalized histogram\", \"KDE\",\"mean \", \"mode\", \"68% HDPinterval\"), \n",
    "               col=c(\"lightskyblue1\",\"navy\",\"darkgoldenrod1\", \"palevioletred\", \"lightskyblue3\"),pch=15,bty=\"n\",cex=1.8, \n",
    "                   inset=c(0.15,0),y.intersp=0.3, x.intersp=0.1)\n",
    "        }\n",
    "    }\n",
    "}\n",
    "\n",
    "    "
   ]
  },
  {
   "cell_type": "code",
   "execution_count": null,
   "metadata": {},
   "outputs": [],
   "source": [
    "plot.stats.2 <- function(chain,param,leg=TRUE, digits=3, return.verbose=FALSE){\n",
    "\n",
    "    param.chain <- chain[,param]\n",
    "    h <- hist(param.chain,plot=FALSE)\n",
    "    hdf <- HPDinterval(param.chain, 0.68)\n",
    "    color.cut <- cut(h$breaks,c(-Inf, hdf[,\"lower\"], hdf[,\"upper\"], +Inf))\n",
    "    mode <- format(h$mids[which.max(h$density)], digits=digits)\n",
    "    \n",
    "    kde <- density(param.chain)\n",
    "    \n",
    "    y.lim <- max(max(kde$y),max(h$density))\n",
    "    \n",
    "    if(return.verbose == TRUE){\n",
    "        out <- c(mode,hdf[,\"lower\"], hdf[,\"upper\"])\n",
    "        return (out)\n",
    "    }\n",
    "    else{\n",
    "        #histogram and mode\n",
    "        plot(h, freq=FALSE,col=c(\"lightskyblue1\",\"lightskyblue3\",\"lightskyblue1\")[color.cut],\n",
    "             xlab=paste(\"value of \",param), main=paste(param, \" chain\"),\n",
    "            cex.lab=2, cex.axis=2, cex.main=2, cex.sub=2,\n",
    "                  ylim=c(0,y.lim))\n",
    "\n",
    "        #KDE\n",
    "        points(kde, type=\"l\", col=\"navy\", lwd=3)\n",
    "\n",
    "        #mean and mode\n",
    "        mean <- format(mean(param.chain), digits=digits)\n",
    "        abline(v = mean, col=\"darkgoldenrod1\", lwd=3, lty=2)\n",
    "        abline(v = mode, col=\"palevioletred\", lwd=3, lty=3)\n",
    "\n",
    "        if (leg != FALSE){\n",
    "            #op <- par(cex = 0.8)\n",
    "            legend(\"topright\", c(\"Normalized histogram\", \"KDE\",\"mean\",\"mode\", \"68% HDPinterval\"), \n",
    "               col=c(\"lightskyblue1\",\"navy\",\"darkgoldenrod1\", \"palevioletred\", \"lightskyblue3\"),\n",
    "                   pch=15,bty=\"n\",cex=1.8, inset=c(0.15,0),y.intersp=0.1,x.intersp=0.1)\n",
    "        }\n",
    "    }\n",
    "}\n",
    "\n",
    "    "
   ]
  },
  {
   "cell_type": "code",
   "execution_count": null,
   "metadata": {},
   "outputs": [],
   "source": [
    "mode.lower.upper.func <- function(chain){\n",
    "    \n",
    "    chain.df <-as.data.frame(as.mcmc(chain))\n",
    "    params.names <- names(chain.df)\n",
    "    \n",
    "    n.params <- length(params.names)\n",
    "    iterations <- n.params\n",
    "    variables <- 3 #mode, lower, upper\n",
    "\n",
    "    mode.lower.upper <- matrix(ncol=variables, nrow=iterations)\n",
    "\n",
    "    for(i in 1:iterations){\n",
    "        mode.lower.upper[i,] <- plot.stats(chain, params.names[i], leg=FALSE, digits=5,return.verbose=TRUE)\n",
    "    }\n",
    "    \n",
    "    mode.lower.upper.df <- as.data.frame(mode.lower.upper,stringsAsFactors=FALSE)\n",
    "    colnames(mode.lower.upper.df) <- c(\"mode\",\"lower\",\"upper\")\n",
    "    row.names(mode.lower.upper.df) <- params.names\n",
    "    mode.lower.upper.df[] <- lapply(mode.lower.upper.df, type.convert, as.is = TRUE)\n",
    "    return(mode.lower.upper.df)\n",
    "    \n",
    "}"
   ]
  },
  {
   "cell_type": "code",
   "execution_count": null,
   "metadata": {},
   "outputs": [],
   "source": [
    "testz<-function(val.teo,val.exp,err.exp){\n",
    "    return((abs(val.teo-val.exp))/err.exp)\n",
    "    }"
   ]
  },
  {
   "cell_type": "markdown",
   "metadata": {},
   "source": [
    "## Integration Functions"
   ]
  },
  {
   "cell_type": "code",
   "execution_count": null,
   "metadata": {},
   "outputs": [],
   "source": [
    "Routti.Prussin.peak.fix<- function(z)\n",
    "    {\n",
    "    return(Routti.Prussin.peak(z,J=best.params[1],A=best.params[2],mu=best.params[6],sigma=best.params[8]))\n",
    "    }"
   ]
  },
  {
   "cell_type": "code",
   "execution_count": null,
   "metadata": {},
   "outputs": [],
   "source": [
    "Routti.Prussin.peak<-function(z,J,A,mu,sigma)\n",
    "    {\n",
    "    ifelse(z < mu - J,  A/(sigma)*exp(J*(2*z - 2*mu + J)/(2*sigma*sigma)),\n",
    "           A/(sigma)*exp((-(z-mu)*(z-mu))/(2*sigma*sigma)))\n",
    "    }"
   ]
  },
  {
   "cell_type": "markdown",
   "metadata": {},
   "source": [
    "# COBALT 1 E = 1.17 MeV"
   ]
  },
  {
   "cell_type": "code",
   "execution_count": null,
   "metadata": {},
   "outputs": [],
   "source": [
    "summary.table[\"Co1\",]"
   ]
  },
  {
   "cell_type": "code",
   "execution_count": null,
   "metadata": {},
   "outputs": [],
   "source": [
    "rangeCo1 = dataset[!(dataset$ADC_channel<=summary.table[\"Co1\",\"range.gauss.min\"]) & (dataset$ADC_channel<=summary.table[\"Co1\",\"range.gauss.max\"]),]\n",
    "rangeCo1$ADC_channel <- rangeCo1$ADC_channel - summary.table[\"Co1\",\"argmax.channel\"]\n",
    "head(rangeCo1)"
   ]
  },
  {
   "cell_type": "code",
   "execution_count": null,
   "metadata": {},
   "outputs": [],
   "source": [
    "options(repr.plot.width=10, repr.plot.height=7)\n",
    "par(mfrow=c(1,2))\n",
    "plot(rangeCo1$ADC_channel+summary.table[\"Co1\",\"argmax.channel\"],rangeCo1$Counts,type = \"p\", col='red', main = 'Co1 E = 1.17 MeV', xlab = 'ADC channel [#]', ylab = \"Counts [#]\",cex.main = 1.5)\n",
    "plot(rangeCo1$ADC_channel+summary.table[\"Co1\",\"argmax.channel\"],log(rangeCo1$Counts), type = \"p\", col='red', main = 'Co1 E = 1.17 MeV', xlab = 'ADC channel [#]', ylab = \"Log(Counts) [#]\",cex.main = 1.5)"
   ]
  },
  {
   "cell_type": "markdown",
   "metadata": {},
   "source": [
    "We choose as a generative model:\n",
    "\n",
    "$\\text{Background}(x |\\alpha,\\text{offset}) = \n",
    "    \\exp[\\tan[\\alpha]x + \\text{offset}]\n",
    "$\n",
    "\n",
    "\n",
    "$\\text{Signal}(x |\\text{N},\\mu,\\sigma) = \\frac{N}{\\sqrt{2 \\pi}\\sigma} \\exp \\left[ -\\frac{(x-\\mu)^2}{2\\sigma^2}\\right] \n",
    "$"
   ]
  },
  {
   "cell_type": "code",
   "execution_count": null,
   "metadata": {},
   "outputs": [],
   "source": [
    "cat(\"model{\n",
    "    #data likelihood\n",
    "    for (i in 1:length(x)){\n",
    "\n",
    "        points[i] <- N/sqrt(2*pi*sigma*sigma)*exp((-(x[i]-mu)*(x[i]-mu))/(2*sigma*sigma)) +  #normal generative model\n",
    "                     exp(tan(slope.alpha)*(x[i]-mu) + offset)  #line generative model\n",
    "        \n",
    "        y[i] ~ dpois(points[i]) \n",
    "\n",
    "\n",
    "    }\n",
    "\n",
    "    #priors for the generative model\n",
    "\n",
    "    N ~ dunif(50000,400000)            \n",
    "    mu ~ dunif(-50,50)        \n",
    "    sigma ~ dgamma(0.0085,0.001)             \n",
    "    offset ~ dunif(0,500)        \n",
    "    slope.alpha ~ dunif(-pi/2 , 0)  \n",
    "\n",
    "    #true value of mu\n",
    "    mu.t <- mu + argmax.channel\n",
    "\n",
    "}\", file=\"Bmodel.cobaltum1.txt\")\n",
    "\n",
    "model.Co1 <- \"Bmodel.cobaltum1.txt\""
   ]
  },
  {
   "cell_type": "code",
   "execution_count": null,
   "metadata": {},
   "outputs": [],
   "source": [
    "#we make an estimate of the true values (via mathematica or looking at the plot)\n",
    "#TRUE values are unkown\n",
    "\n",
    "init.val.Co1.1 <- list(N =300000,mu = 0,sigma =15,slope.alpha=-0.001,offset=10,\n",
    "                     .RNG.seed  = 1996,.RNG.name = \"base::Mersenne-Twister\")\n",
    "init.val.Co1.2 <- list(N =350000,mu = 10,sigma =15,slope.alpha=0,offset=50,\n",
    "                    .RNG.seed  = 1996,.RNG.name = \"base::Mersenne-Twister\")\n",
    "init.val.Co1.3 <- list(N =200000,mu = -25,sigma =10,slope.alpha=-pi/4,offset=20,\n",
    "                     .RNG.seed  = 1996,.RNG.name = \"base::Mersenne-Twister\")\n",
    "init.val.Co1 <- list(init.val.Co1.1 , init.val.Co1.2 , init.val.Co1.3 )\n",
    "\n",
    "data.Co1 <- NULL\n",
    "data.Co1$x <- rangeCo1$ADC_channel\n",
    "data.Co1$y <- rangeCo1$Counts\n",
    "data.Co1$pi <- pi\n",
    "data.Co1$argmax.channel <- summary.table[\"Co1\",\"argmax.channel\"]"
   ]
  },
  {
   "cell_type": "code",
   "execution_count": null,
   "metadata": {},
   "outputs": [],
   "source": [
    "#reading the model\n",
    "jmCo1 <- jags.model(model.Co1, data.Co1, init.val.Co1, n.adapt=0, n.chains=3) #le chains sono utili le terrei a prescindere\n",
    "update(jmCo1,1000)\n",
    "chain.Co1 <- coda.samples(jmCo1 , c(\"N\",\"mu.t\", \"sigma\",\"slope.alpha\",\"offset\"), n.iter=8000, thin = 10) "
   ]
  },
  {
   "cell_type": "code",
   "execution_count": null,
   "metadata": {},
   "outputs": [],
   "source": [
    "#Gelman and Rubin's convergence diagnostic:ratio between variance between the chains and variance within a chain\n",
    "gelman.diag(chain.Co1)$psrf[,1]\n",
    "cat(paste(\"Total chain R value:\",gelman.diag(chain.Co1)$mpsrf))"
   ]
  },
  {
   "cell_type": "code",
   "execution_count": null,
   "metadata": {},
   "outputs": [],
   "source": [
    "params=summary(chain.Co1)$statistics[,1:2]\n",
    "params"
   ]
  },
  {
   "cell_type": "code",
   "execution_count": null,
   "metadata": {},
   "outputs": [],
   "source": [
    "total.chain.Co1 <- mcmc(do.call(rbind, chain.Co1),thin=thin(chain.Co1)) #combines the three chains"
   ]
  },
  {
   "cell_type": "code",
   "execution_count": null,
   "metadata": {
    "scrolled": false
   },
   "outputs": [],
   "source": [
    "par(mfrow=c(3,2),mar=c(5,5.5,4,0.7))\n",
    "options(repr.plot.width=15, repr.plot.height=25)\n",
    "chain.Co1.df <- as.data.frame ( as.mcmc(total.chain.Co1) )\n",
    "\n",
    "for (p in names(chain.Co1.df)){\n",
    "    plot.stats(total.chain.Co1, p, leg=TRUE, digits=7)\n",
    "}"
   ]
  },
  {
   "cell_type": "markdown",
   "metadata": {},
   "source": [
    "VISUALIZATION OF THE CHAINS"
   ]
  },
  {
   "cell_type": "code",
   "execution_count": null,
   "metadata": {
    "scrolled": false
   },
   "outputs": [],
   "source": [
    "options(repr.plot.width=10, repr.plot.height=15)\n",
    "plot(chain.Co1,cex.lab=1.3, cex.axis=1.3, cex.main=1.3, cex.sub=1.3)"
   ]
  },
  {
   "cell_type": "markdown",
   "metadata": {},
   "source": [
    "VISUALIZATION OF THE AUTOCORRELATION PARAMETRS (IN ORDER TO ADJUST THINNING PARAMETER)"
   ]
  },
  {
   "cell_type": "code",
   "execution_count": null,
   "metadata": {
    "scrolled": false
   },
   "outputs": [],
   "source": [
    "autocorr.plot(total.chain.Co1, cex.lab=1.3, cex.axis=1.3, cex.main=1.3, cex.sub=1.3)"
   ]
  },
  {
   "cell_type": "markdown",
   "metadata": {},
   "source": [
    "VISUALIZATION OF THE CORRELATION BETWEEN VARIABLES"
   ]
  },
  {
   "cell_type": "code",
   "execution_count": null,
   "metadata": {
    "scrolled": false
   },
   "outputs": [],
   "source": [
    "plot.correlations(chain.Co1.df, c(3,4))"
   ]
  },
  {
   "cell_type": "markdown",
   "metadata": {},
   "source": [
    "## LOGPosterior"
   ]
  },
  {
   "cell_type": "code",
   "execution_count": null,
   "metadata": {},
   "outputs": [],
   "source": [
    "y=data.Co1$y\n",
    "x=data.Co1$x \n",
    "parametri <- as.data.frame(as.mcmc(total.chain.Co1))\n",
    "\n",
    "\n",
    "\n",
    "best.params <- c(0,0,0,0,0)\n",
    "LogPostBest <- -Inf\n",
    "\n",
    "for (j in 1:dim(total.chain.Co1)[1]){\n",
    "\n",
    "    \n",
    "    N=parametri$N[j]\n",
    "    mu=parametri$mu[j] - summary.table[\"Co1\",\"argmax.channel\"]\n",
    "    sigma=parametri$sigma[j]\n",
    "    slope.alpha=parametri$slope.alpha[j]\n",
    "    offset=parametri$offset[j]\n",
    "\n",
    "  \n",
    "    #LogLikelihood\n",
    "\n",
    "    LogL <- 0\n",
    "\n",
    "    for (i in 1:length(y)){\n",
    "\n",
    "        point <- N/sqrt(2*pi*sigma*sigma)*exp((-(x[i]-mu)*(x[i]-mu))/(2*sigma*sigma)) + #+  #normal generative model\n",
    "                                exp(tan(slope.alpha)*(x[i]-mu) + offset)  #line generative model\n",
    "\n",
    "        p.y <- dpois(y[i], point) \n",
    "\n",
    "        LogL <- LogL + log(p.y)\n",
    "\n",
    "    }\n",
    "\n",
    "\n",
    "    #LogPrior\n",
    "    p.N <- dunif(N,50000,300000)           \n",
    "    p.mu <- dunif(mu,-50,50)        \n",
    "    p.sigma <- dgamma(sigma,60,7)          \n",
    "    p.slope.alpha <- dunif(slope.alpha,-pi/2,0)  \n",
    "    p.offset <- dunif(offset,0,50) \n",
    "    \n",
    "    LogPrior <- log(p.N) + log(p.mu) + log(p.slope.alpha) + log(p.offset) + log(p.sigma)\n",
    "\n",
    "\n",
    "    #LogPost\n",
    "    LogPost <- LogPrior + LogL\n",
    "\n",
    "    #cat(paste(\"LogL:\",LogL,\"\\n\"))\n",
    "    #cat(paste(\"LogPost:\",LogPost,\"\\n\"))\n",
    "\n",
    "    \n",
    "    \n",
    "    #check for maximum of the posterior\n",
    "    if(LogPost > LogPostBest){\n",
    "        LogPostBest <- LogPost\n",
    "        best.params <- c(N, mu, offset, sigma, slope.alpha)\n",
    "    }\n",
    "    \n",
    "}\n",
    "best.params[2] <- best.params[2] + summary.table[\"Co1\",\"argmax.channel\"]\n"
   ]
  },
  {
   "cell_type": "code",
   "execution_count": null,
   "metadata": {},
   "outputs": [],
   "source": [
    "cat(best.params)"
   ]
  },
  {
   "cell_type": "code",
   "execution_count": null,
   "metadata": {
    "scrolled": false
   },
   "outputs": [],
   "source": [
    "###confronto tra media, moda e originale\n",
    "params=summary(chain.Co1)$statistics[,1]\n",
    "mlu <- mode.lower.upper.func(total.chain.Co1)\n",
    "mlu\n",
    "\n",
    "\n",
    "\n",
    "extracted <-  sapply(data.Co1$x+summary.table[\"Co1\",\"argmax.channel\"],Gauss.exp.func,slope=best.params[5],offset=best.params[3],N=best.params[1],mu=best.params[2],sigma=best.params[4])\n",
    "extracted.moda <-  sapply(data.Co1$x+summary.table[\"Co1\",\"argmax.channel\"],Gauss.exp.func, slope=mlu[5,1],offset=mlu[3,1],N=mlu[1,1],mu=mlu[2,1],sigma=mlu[4,1])\n",
    "extracted.mean <-  sapply(data.Co1$x+summary.table[\"Co1\",\"argmax.channel\"],Gauss.exp.func,slope=params[5],offset=params[3],N=params[1],mu=params[2],sigma=params[4])\n",
    "\n",
    "\n",
    "\n",
    "plot.func.total.1(data.Co1$x+summary.table[\"Co1\",\"argmax.channel\"],data.Co1$y,extracted,extracted.moda,extracted.mean,title=(\"Cobalt E = 1.17 MeV\"))"
   ]
  },
  {
   "cell_type": "markdown",
   "metadata": {},
   "source": [
    "# COBALT 2 E = 1.33 MeV"
   ]
  },
  {
   "cell_type": "code",
   "execution_count": null,
   "metadata": {},
   "outputs": [],
   "source": [
    "summary.table[\"Co2\",]"
   ]
  },
  {
   "cell_type": "code",
   "execution_count": null,
   "metadata": {},
   "outputs": [],
   "source": [
    "rangeCo2 = dataset[!(dataset$ADC_channel<=summary.table[\"Co2\",\"range.gauss.min\"]) & (dataset$ADC_channel<=summary.table[\"Co2\",\"range.gauss.max\"]),]\n",
    "rangeCo2$ADC_channel <- rangeCo2$ADC_channel - summary.table[\"Co2\",\"argmax.channel\"]\n",
    "head(rangeCo2)"
   ]
  },
  {
   "cell_type": "code",
   "execution_count": null,
   "metadata": {},
   "outputs": [],
   "source": [
    "options(repr.plot.width=10, repr.plot.height=7)\n",
    "par(mfrow=c(1,2))\n",
    "plot(rangeCo2$ADC_channel + summary.table[\"Co2\",\"argmax.channel\"],rangeCo2$Counts, ylim=c(0,300),type = \"p\", col='red', main = 'Co2 E = 1.33 MeV', xlab = 'ADC channel [#]', ylab = \"Counts [#]\",cex.main = 1.5)\n",
    "#points(rangeCo2$ADC_channel + summary.table[\"Co2\",\"argmax.channel\"],exp(tan(params[5])*(rangeCo2$ADC_channel) + params[3]))\n",
    "plot(rangeCo2$ADC_channel + summary.table[\"Co2\",\"argmax.channel\"],log(rangeCo2$Counts), type = \"p\", col='red', main = 'Co2 E = 1.33 MeV', xlab = 'ADC channel [#]', ylab = \"log(Counts) [#]\",cex.main = 1.5)"
   ]
  },
  {
   "cell_type": "code",
   "execution_count": null,
   "metadata": {},
   "outputs": [],
   "source": [
    "cat(\"model{\n",
    "    #data likelihood\n",
    "    for (i in 1:length(x)){\n",
    "\n",
    "        points[i] <- N/sqrt(2*pi*sigma*sigma)*exp((-(x[i]-mu)*(x[i]-mu))/(2*sigma*sigma)) + #+  #normal generative model\n",
    "                            exp(tan(slope.alpha)*(x[i]-mu) + offset)  #line generative model\n",
    "                        \n",
    "        y[i] ~ dpois(points[i]) \n",
    "\n",
    "\n",
    "    }\n",
    "    #priors for the generative model\n",
    "\n",
    "    N ~ dunif(50000,300000)           \n",
    "    mu ~ dunif(-50,50)        \n",
    "    sigma ~ dgamma(0.0085,0.001)            \n",
    "    slope.alpha ~ dunif(-pi/2,0)  \n",
    "    offset ~ dunif(0,50)       \n",
    "\n",
    "    #true value of mu\n",
    "    mu.t <- mu + argmax.channel\n",
    "\n",
    "   \n",
    "\n",
    "}\", file=\"Bmodel.cobaltum2.pois.txt\")\n",
    "model.Co2 <- \"Bmodel.cobaltum2.pois.txt\""
   ]
  },
  {
   "cell_type": "code",
   "execution_count": null,
   "metadata": {},
   "outputs": [],
   "source": [
    "#MODEL SET UP: INITIAL VALUES AND DATA PREPARATION\n",
    "\n",
    "#we make an estimate of the true values looking at the plot\n",
    "#TRUE values are unkown\n",
    "\n",
    "\n",
    "init.val.Co2.1 <- list(N =100000,mu = 12,sigma =15, slope.alpha=-0.01,offset=2,\n",
    "                     .RNG.seed  = 1996,.RNG.name = \"base::Mersenne-Twister\")\n",
    "init.val.Co2.2 <- list(N =150000,mu = -30,sigma =7,slope.alpha=-1,offset=8,\n",
    "                     .RNG.seed  = 1996,.RNG.name = \"base::Mersenne-Twister\")\n",
    "init.val.Co2.3 <- list(N =210000,mu = 3,sigma =10,slope.alpha=-pi/3,offset=20,\n",
    "                     .RNG.seed  = 1996,.RNG.name = \"base::Mersenne-Twister\")\n",
    "init.val.Co2 <- list(init.val.Co2.1 , init.val.Co2.2 , init.val.Co2.3 )\n",
    "\n",
    "data.Co2 <- NULL\n",
    "data.Co2$x <- rangeCo2$ADC_channel\n",
    "data.Co2$y <- rangeCo2$Counts\n",
    "data.Co2$pi <- pi\n",
    "data.Co2$argmax.channel <- summary.table[\"Co2\",\"argmax.channel\"]"
   ]
  },
  {
   "cell_type": "code",
   "execution_count": null,
   "metadata": {},
   "outputs": [],
   "source": [
    "#reading the model\n",
    "jmCo2 <- jags.model(model.Co2, data.Co2, inits=init.val.Co2, n.adapt=0, n.chains=3)\n",
    "update(jmCo2, 1000)\n",
    "chain.Co2 <- coda.samples(jmCo2 , c(\"N\",\"mu.t\", \"sigma\",\"slope.alpha\",\"offset\"),n.iter=8000, thin=10)#,\"slope.alpha\",\"offset\"), n.iter=5000, thin=1) "
   ]
  },
  {
   "cell_type": "code",
   "execution_count": null,
   "metadata": {},
   "outputs": [],
   "source": [
    "#Gelman and Rubin's convergence diagnostic:ratio between variance between the chains and variance within a chain\n",
    "gelman.diag(chain.Co1)$psrf[,1]\n",
    "cat(paste(\"Total chain R value:\",gelman.diag(chain.Co1)$ mpsrf))"
   ]
  },
  {
   "cell_type": "code",
   "execution_count": null,
   "metadata": {},
   "outputs": [],
   "source": [
    "params=summary(chain.Co2)$statistics[,1:2]\n",
    "params"
   ]
  },
  {
   "cell_type": "code",
   "execution_count": null,
   "metadata": {},
   "outputs": [],
   "source": [
    "total.chain.Co2 <- mcmc(do.call(rbind, chain.Co2),thin=thin(chain.Co2)) #combines the three chains"
   ]
  },
  {
   "cell_type": "code",
   "execution_count": null,
   "metadata": {},
   "outputs": [],
   "source": [
    "par(mfrow=c(3,2),mar=c(5,5.5,4,0.7))\n",
    "options(repr.plot.width=15, repr.plot.height=25)\n",
    "chain.Co2.df <- as.data.frame ( as.mcmc( total.chain.Co2 ) )\n",
    "\n",
    "for (p in names(chain.Co2.df)){\n",
    "    plot.stats(total.chain.Co2, p, leg=TRUE, digits=8)\n",
    "}\n"
   ]
  },
  {
   "cell_type": "markdown",
   "metadata": {
    "scrolled": false
   },
   "source": [
    "VISUALIZATION OF THE CHAIN\n",
    "\n"
   ]
  },
  {
   "cell_type": "code",
   "execution_count": null,
   "metadata": {
    "scrolled": false
   },
   "outputs": [],
   "source": [
    "options(repr.plot.width=10, repr.plot.height=15)\n",
    "plot(chain.Co2,cex.lab=1.3, cex.axis=1.3, cex.main=1.3, cex.sub=1.3)"
   ]
  },
  {
   "cell_type": "markdown",
   "metadata": {},
   "source": [
    "VISUALIZTION OF AUTOCORRELATION"
   ]
  },
  {
   "cell_type": "code",
   "execution_count": null,
   "metadata": {
    "scrolled": false
   },
   "outputs": [],
   "source": [
    "autocorr.plot(chain.Co2.df,cex.lab=1.3, cex.axis=1.3, cex.main=1.3, cex.sub=1.3)"
   ]
  },
  {
   "cell_type": "markdown",
   "metadata": {},
   "source": [
    "VISUALIZATION OF CORRELATION BETWEEN VARIABLES"
   ]
  },
  {
   "cell_type": "code",
   "execution_count": null,
   "metadata": {
    "scrolled": false
   },
   "outputs": [],
   "source": [
    "options(repr.plot.width=10, repr.plot.height=5)\n",
    "plot.correlations(chain.Co2.df, c(3,4))"
   ]
  },
  {
   "cell_type": "markdown",
   "metadata": {},
   "source": [
    "## LOGPosterior"
   ]
  },
  {
   "cell_type": "code",
   "execution_count": null,
   "metadata": {},
   "outputs": [],
   "source": [
    "y=data.Co2$y\n",
    "x=data.Co2$x \n",
    "parametri <- as.data.frame(as.mcmc(total.chain.Co2))\n",
    "\n",
    "\n",
    "\n",
    "best.params <- c(0,0,0,0,0)\n",
    "LogPostBest <- -Inf\n",
    "\n",
    "for (j in 1:dim(total.chain.Co2)[1]){\n",
    "\n",
    "    \n",
    "    N=parametri$N[j]\n",
    "    mu=parametri$mu[j] - summary.table[\"Co2\",\"argmax.channel\"]\n",
    "    sigma=parametri$sigma[j]\n",
    "    slope.alpha=parametri$slope.alpha[j]\n",
    "    offset=parametri$offset[j]\n",
    "\n",
    "  \n",
    "    #LogLikelihood\n",
    "\n",
    "    LogL <- 0\n",
    "\n",
    "    for (i in 1:length(y)){\n",
    "\n",
    "        point <- N/sqrt(2*pi*sigma*sigma)*exp((-(x[i]-mu)*(x[i]-mu))/(2*sigma*sigma)) + #+  #normal generative model\n",
    "                                exp(tan(slope.alpha)*(x[i]-mu) + offset)  #line generative model\n",
    "\n",
    "        p.y <- dpois(y[i], point) \n",
    "\n",
    "        LogL <- LogL + log(p.y)\n",
    "\n",
    "    }\n",
    "\n",
    "\n",
    "    #LogPrior\n",
    "    p.N <- dunif(N,50000,300000)           \n",
    "    p.mu <- dunif(mu,-50,50)        \n",
    "    p.sigma <- dgamma(sigma,60,7)          \n",
    "    p.slope.alpha <- dunif(slope.alpha,-pi/2,0)  \n",
    "    p.offset <- dunif(offset,0,50) \n",
    "    \n",
    "    LogPrior <- log(p.N) + log(p.mu) + log(p.slope.alpha) + log(p.offset) + log(p.sigma)\n",
    "\n",
    "\n",
    "    #LogPost\n",
    "    LogPost <- LogPrior + LogL\n",
    "\n",
    "    #cat(paste(\"LogL:\",LogL,\"\\n\"))\n",
    "    #cat(paste(\"LogPost:\",LogPost,\"\\n\"))\n",
    "\n",
    "    \n",
    "    \n",
    "    #check for maximum of the posterior\n",
    "    if(LogPost > LogPostBest){\n",
    "        LogPostBest <- LogPost\n",
    "        best.params <- c(N, mu, offset, sigma, slope.alpha)\n",
    "    }\n",
    "    \n",
    "}\n",
    "best.params[2] <- best.params[2] + summary.table[\"Co2\",\"argmax.channel\"]\n",
    "best.params"
   ]
  },
  {
   "cell_type": "code",
   "execution_count": null,
   "metadata": {
    "code_folding": [
     0
    ],
    "scrolled": false
   },
   "outputs": [],
   "source": [
    "###confronto tra media, moda e originale\n",
    "params=summary(chain.Co2)$statistics[,1]\n",
    "mlu <- mode.lower.upper.func(total.chain.Co2)\n",
    "mlu\n",
    "\n",
    "\n",
    "\n",
    "extracted <-  sapply(data.Co2$x+summary.table[\"Co2\",\"argmax.channel\"],Gauss.exp.func,slope=best.params[5],offset=best.params[3],N=best.params[1],mu=best.params[2],sigma=best.params[4])\n",
    "extracted.moda <-  sapply(data.Co2$x+summary.table[\"Co2\",\"argmax.channel\"],Gauss.exp.func, slope=mlu[5,1],offset=mlu[3,1],N=mlu[1,1],mu=mlu[2,1],sigma=mlu[4,1])\n",
    "extracted.mean <-  sapply(data.Co2$x+summary.table[\"Co2\",\"argmax.channel\"],Gauss.exp.func,slope=params[5],offset=params[3],N=params[1],mu=params[2],sigma=params[4])\n",
    "\n",
    "\n",
    "\n",
    "plot.func.total.1(data.Co2$x+summary.table[\"Co2\",\"argmax.channel\"],data.Co2$y,extracted,extracted.moda,extracted.mean,title=(\"Cobalt E = 1.33 MeV\"))"
   ]
  },
  {
   "cell_type": "markdown",
   "metadata": {},
   "source": [
    "# DOUBLE ABSORPTION "
   ]
  },
  {
   "cell_type": "code",
   "execution_count": null,
   "metadata": {},
   "outputs": [],
   "source": [
    "summary.table[\"DA\",]"
   ]
  },
  {
   "cell_type": "code",
   "execution_count": null,
   "metadata": {},
   "outputs": [],
   "source": [
    "summary.table[\"DA\",\"argmax.channel\"] <- summary.table[\"DA\",\"argmax.channel\"]"
   ]
  },
  {
   "cell_type": "code",
   "execution_count": null,
   "metadata": {},
   "outputs": [],
   "source": [
    "rangeDA = dataset[!(dataset$ADC_channel<=summary.table[\"DA\",\"range.gauss.min\"]) & (dataset$ADC_channel<=summary.table[\"DA\",\"range.gauss.max\"]),]"
   ]
  },
  {
   "cell_type": "code",
   "execution_count": null,
   "metadata": {},
   "outputs": [],
   "source": [
    "rangeDA$ADC_channel <- rangeDA$ADC_channel - summary.table[\"DA\",\"argmax.channel\"]"
   ]
  },
  {
   "cell_type": "code",
   "execution_count": null,
   "metadata": {},
   "outputs": [],
   "source": [
    "options(repr.plot.width=10, repr.plot.height=7)\n",
    "par(mfrow=c(1,2))\n",
    "plot(rangeDA$ADC_channel + summary.table[\"DA\",\"argmax.channel\"],rangeDA$Counts, type = \"p\", col='red', main = \"Double absorption E = 2.506 MeV\", xlab = 'ADC channel [#]', ylab = \"Counts [#]\",cex.main = 1.5)\n",
    "#points(rangeDA$ADC_channel + summary.table[\"DA\",\"argmax.channel\"],exp(tan(params[5])*(rangeDA$ADC_channel) + params[3]))\n",
    "plot(rangeDA$ADC_channel + summary.table[\"DA\",\"argmax.channel\"],log(rangeDA$Counts), type = \"p\", col='red', main = \"Double absorption E = 2.506 MeV\", xlab = 'ADC channel [#]', ylab = \"log(Counts) [#]\",cex.main = 1.5)"
   ]
  },
  {
   "cell_type": "code",
   "execution_count": null,
   "metadata": {},
   "outputs": [],
   "source": [
    "cat(\"model{\n",
    "    #data likelihood\n",
    "    for (i in 1:length(x)){\n",
    "\n",
    "        points[i] <- N/sqrt(2*pi*sigma*sigma)*exp((-(x[i]-mu)*(x[i]-mu))/(2*sigma*sigma)) + #+  #normal generative model\n",
    "                            exp(tan(slope.alpha)*(x[i]-mu) + offset)  #line generative model\n",
    "                        \n",
    "        y[i] ~ dpois(points[i]) \n",
    "\n",
    "\n",
    "    }\n",
    "\n",
    "    #priors for the generative model\n",
    "\n",
    "    N ~ dunif(5000,50000)           \n",
    "    mu ~ dunif(-100,100)        \n",
    "    sigma ~ dgamma(0.0085,0.001)          \n",
    "    slope.alpha ~ dunif(-pi/4,0)  \n",
    "    offset ~ dunif(0,100)       \n",
    "\n",
    "    mu.t <- mu + argmax.channel\n",
    "\n",
    "   \n",
    "\n",
    "}\", file=\"Bmodel.double.txt\")\n",
    "model.DA <- \"Bmodel.double.txt\""
   ]
  },
  {
   "cell_type": "code",
   "execution_count": null,
   "metadata": {},
   "outputs": [],
   "source": [
    "#we make an estimate of the true values looking at the plot\n",
    "#TRUE values are unkown\n",
    "\n",
    "\n",
    "init.val.DA.1 <- list(N =10000,mu = 0,sigma =40,slope.alpha=-0.003,offset=10,\n",
    "                     .RNG.seed  = 1996,.RNG.name = \"base::Mersenne-Twister\")\n",
    "init.val.DA.2 <- list(N =20000,mu = -10,sigma =50,slope.alpha=-0.013,offset=5,\n",
    "                     .RNG.seed  = 1996,.RNG.name = \"base::Mersenne-Twister\")\n",
    "init.val.DA.3 <- list(N =5000,mu = 10,sigma =20,slope.alpha=-0.1,offset=40,\n",
    "                     .RNG.seed  = 1996,.RNG.name = \"base::Mersenne-Twister\")\n",
    "init.val.DA <- list(init.val.DA.1 , init.val.DA.2 , init.val.DA.3 )\n",
    "\n",
    "data.DA <- NULL\n",
    "data.DA$x <- rangeDA$ADC_channel\n",
    "data.DA$y <- rangeDA$Counts\n",
    "data.DA$pi <- pi\n",
    "data.DA$argmax.channel <- summary.table[\"DA\",\"argmax.channel\"]"
   ]
  },
  {
   "cell_type": "code",
   "execution_count": null,
   "metadata": {},
   "outputs": [],
   "source": [
    "#reading the model\n",
    "jmDA <- jags.model(model.DA, data.DA, inits=init.val.DA, n.chain=3,n.adapt=0)\n",
    "update(jmDA,1000)\n",
    "chain.DA <- coda.samples(jmDA , c(\"N\",\"mu.t\", \"sigma\",\"slope.alpha\",\"offset\"), n.iter=10000, thin=15) "
   ]
  },
  {
   "cell_type": "code",
   "execution_count": null,
   "metadata": {},
   "outputs": [],
   "source": [
    "#Gelman and Rubin's convergence diagnostic:ratio between variance between the chains and variance within a chain\n",
    "gelman.diag(chain.DA)$psrf[,1]\n",
    "cat(paste(\"Total chain R value:\",gelman.diag(chain.DA)$ mpsrf))"
   ]
  },
  {
   "cell_type": "code",
   "execution_count": null,
   "metadata": {},
   "outputs": [],
   "source": [
    "params=summary(chain.DA)$statistics[,1]\n",
    "summary(chain.DA)$statistics[,1:2]"
   ]
  },
  {
   "cell_type": "code",
   "execution_count": null,
   "metadata": {},
   "outputs": [],
   "source": [
    "total.chain.DA <- mcmc(do.call(rbind, chain.DA),thin=thin(chain.DA)) #combines the three chains"
   ]
  },
  {
   "cell_type": "code",
   "execution_count": null,
   "metadata": {
    "scrolled": false
   },
   "outputs": [],
   "source": [
    "par(mfrow=c(3,2),mar=c(5,5.5,4,0.7))\n",
    "options(repr.plot.width=15, repr.plot.height=25)\n",
    "\n",
    "\n",
    "chain.DA.df <- as.data.frame ( as.mcmc( total.chain.DA ) )\n",
    "\n",
    "for (p in names(chain.DA.df)){\n",
    "    plot.stats(total.chain.DA, p, leg=TRUE, digits=7)\n",
    "}"
   ]
  },
  {
   "cell_type": "markdown",
   "metadata": {},
   "source": [
    "VISUALIZATION OF THE CHAIN"
   ]
  },
  {
   "cell_type": "code",
   "execution_count": null,
   "metadata": {
    "scrolled": false
   },
   "outputs": [],
   "source": [
    "options(repr.plot.width=10, repr.plot.height=15)\n",
    "plot(chain.DA,cex.lab=1.3, cex.axis=1.3, cex.main=1.3, cex.sub=1.3)"
   ]
  },
  {
   "cell_type": "markdown",
   "metadata": {},
   "source": [
    "VISUALIZATION OF AUTOCORRELATION"
   ]
  },
  {
   "cell_type": "code",
   "execution_count": null,
   "metadata": {
    "scrolled": false
   },
   "outputs": [],
   "source": [
    "autocorr.plot(chain.DA.df,cex.lab=1.3, cex.axis=1.3, cex.main=1.3, cex.sub=1.3)"
   ]
  },
  {
   "cell_type": "markdown",
   "metadata": {},
   "source": [
    "VISUALIZATION OF CORRELATION BETWEEN VARIABLES"
   ]
  },
  {
   "cell_type": "code",
   "execution_count": null,
   "metadata": {
    "scrolled": false
   },
   "outputs": [],
   "source": [
    "options(repr.plot.width=10, repr.plot.height=5)\n",
    "plot.correlations(chain.DA.df, c(3,4))"
   ]
  },
  {
   "cell_type": "markdown",
   "metadata": {},
   "source": [
    "## LOGPosterior"
   ]
  },
  {
   "cell_type": "code",
   "execution_count": null,
   "metadata": {},
   "outputs": [],
   "source": [
    "y=data.DA$y\n",
    "x=data.DA$x \n",
    "parametri <- as.data.frame(as.mcmc(total.chain.DA))\n",
    "\n",
    "best.params <- c(0,0,0,0,0)\n",
    "LogPostBest <- -Inf\n",
    "\n",
    "for (j in 1:dim(total.chain.DA)[1]){\n",
    "\n",
    "    \n",
    "    N=parametri$N[j]\n",
    "    mu=parametri$mu[j] - summary.table[\"DA\",\"argmax.channel\"]\n",
    "    sigma=parametri$sigma[j]\n",
    "    slope.alpha=parametri$slope.alpha[j]\n",
    "    offset=parametri$offset[j]\n",
    "\n",
    "  \n",
    "    #LogLikelihood\n",
    "\n",
    "    LogL <- 0\n",
    "\n",
    "    for (i in 1:length(y)){\n",
    "\n",
    "        point <- N/sqrt(2*pi*sigma*sigma)*exp((-(x[i]-mu)*(x[i]-mu))/(2*sigma*sigma)) + #+  #normal generative model\n",
    "                                exp(tan(slope.alpha)*(x[i]-mu) + offset)  #line generative model\n",
    "\n",
    "        p.y <- dpois(y[i], point) \n",
    "\n",
    "        LogL <- LogL + log(p.y)\n",
    "\n",
    "    }\n",
    "\n",
    "\n",
    "    #LogPrior\n",
    "    p.N <- dunif(N,5000,50000)           \n",
    "    p.mu <- dunif(mu,-100,100)        \n",
    "    p.sigma <- dgamma(sigma,60,7)          \n",
    "    p.slope.alpha <- dunif(slope.alpha,-pi/4,0)  \n",
    "    p.offset <- dunif(offset,0,100)      \n",
    "\n",
    "    LogPrior <- log(p.N) + log(p.mu) + log(p.slope.alpha) + log(p.offset) + log(p.sigma)\n",
    "\n",
    "\n",
    "    #LogPost\n",
    "    LogPost <- LogPrior + LogL\n",
    "\n",
    "    #cat(paste(\"LogL:\",LogL,\"\\n\"))\n",
    "    #cat(paste(\"LogPost:\",LogPost,\"\\n\"))\n",
    "\n",
    "    \n",
    "    \n",
    "    #check for maximum of the posterior\n",
    "    if(LogPost > LogPostBest){\n",
    "        LogPostBest <- LogPost\n",
    "        best.params <- c(N, mu, offset, sigma, slope.alpha)\n",
    "    }\n",
    "    \n",
    "}\n",
    "best.params[2] <- best.params[2] + summary.table[\"DA\",\"argmax.channel\"]\n",
    "best.params"
   ]
  },
  {
   "cell_type": "code",
   "execution_count": null,
   "metadata": {},
   "outputs": [],
   "source": [
    "###confronto tra media, moda e originale\n",
    "params=summary(chain.DA)$statistics[,1]\n",
    "mlu <- mode.lower.upper.func(total.chain.DA)\n",
    "mlu\n",
    "\n",
    "\n",
    "\n",
    "extracted <-  sapply(data.DA$x+summary.table[\"DA\",\"argmax.channel\"],Gauss.exp.func,slope=best.params[5],offset=best.params[3],N=best.params[1],mu=best.params[2],sigma=best.params[4])\n",
    "extracted.moda <-  sapply(data.DA$x+summary.table[\"DA\",\"argmax.channel\"],Gauss.exp.func, slope=mlu[5,1],offset=mlu[3,1],N=mlu[1,1],mu=mlu[2,1],sigma=mlu[4,1])\n",
    "extracted.mean <-  sapply(data.DA$x+summary.table[\"DA\",\"argmax.channel\"],Gauss.exp.func,slope=params[5],offset=params[3],N=params[1],mu=params[2],sigma=params[4])\n",
    "\n",
    "\n",
    "\n",
    "plot.func.total.1(data.DA$x+summary.table[\"DA\",\"argmax.channel\"],data.DA$y,extracted,extracted.moda,extracted.mean,title=(\"Double absorption E = 2.506 MeV\"))"
   ]
  },
  {
   "cell_type": "markdown",
   "metadata": {},
   "source": [
    "# AMERICIUM"
   ]
  },
  {
   "cell_type": "code",
   "execution_count": null,
   "metadata": {},
   "outputs": [],
   "source": [
    "summary.table[\"Am\",]"
   ]
  },
  {
   "cell_type": "code",
   "execution_count": null,
   "metadata": {},
   "outputs": [],
   "source": [
    "rangeAm = dataset[!(dataset$ADC_channel<=summary.table[\"Am\",\"range.gauss.min\"]) & (dataset$ADC_channel<=summary.table[\"Am\",\"range.gauss.max\"]),]\n",
    "rangeAm <- data.frame(rangeAm[\"Counts\"], rangeAm[\"ADC_channel\"])\n",
    "head(rangeAm)"
   ]
  },
  {
   "cell_type": "code",
   "execution_count": null,
   "metadata": {},
   "outputs": [],
   "source": [
    "options(repr.plot.width=10, repr.plot.height=7)\n",
    "par(mfrow=c(1,2))\n",
    "plot(rangeAm$ADC_channel,rangeAm$Counts, type = \"p\", col='red',main = 'Am E =0.059 MeV', xlab = 'ADC channel [#]', ylab = \"Counts [#]\",cex.main = 1.5)\n",
    "plot(rangeAm$ADC_channel,log(rangeAm$Counts), type = \"p\", col='red',main = 'Am E =0.059 MeV', xlab = 'ADC channel [#]', ylab = \"log(Counts) [#]\",cex.main = 1.5)"
   ]
  },
  {
   "cell_type": "markdown",
   "metadata": {},
   "source": [
    "## GAUSSIAN"
   ]
  },
  {
   "cell_type": "markdown",
   "metadata": {},
   "source": [
    "We choose as a generative model:\n",
    "\n",
    "\n",
    "$\\text{Background}(x |c.1,c.2,\\mu_{\\sigma},\\text{offset}) = \n",
    "    \\frac{c.1}{1+\\exp \\left[ c.2(x-\\mu_{s})\\right] } + \\text{offset}\n",
    "$\n",
    "\n",
    "\n",
    "$\\text{Signal}(x |\\text{N},\\mu,\\sigma) = \\frac{N}{\\sqrt{2 \\pi}\\sigma} \\exp \\left[ -\\frac{(x-\\mu)^2}{2\\sigma^2}\\right] \n",
    "$"
   ]
  },
  {
   "cell_type": "code",
   "execution_count": null,
   "metadata": {},
   "outputs": [],
   "source": [
    "cat(\"model{\n",
    "    #data likelihood\n",
    "    for (i in 1:length(x)){\n",
    "\n",
    "        points[i] <- N/sqrt(2*pi*sigma*sigma)*exp((-(x[i]-mu)*(x[i]-mu))/(2*sigma*sigma)) +\n",
    "                     c.1/(1+exp(c.2*(x[i]-c.mu))) + offset\n",
    "                        \n",
    "        y[i] ~ dpois(points[i])\n",
    "\n",
    "\n",
    "    }\n",
    "    #priors for the generative model\n",
    "\n",
    "    N ~ dunif(50000,500000)           \n",
    "    mu ~ dunif(150,165)        \n",
    "    sigma ~ dgamma(0.0085,0.001)            \n",
    "    c.1 ~ dunif(400,3000)          \n",
    "    c.2 ~ dunif(0,1)      \n",
    "    c.mu ~ dnorm(mu,1)          \n",
    "    offset ~ dunif(0,2000)         \n",
    "\n",
    "    \n",
    "\n",
    "}\", file=\"BUGS_model_Am_S1.txt\")\n",
    "model.Am.S1 <- \"BUGS_model_Am_S1.txt\"\n"
   ]
  },
  {
   "cell_type": "code",
   "execution_count": null,
   "metadata": {},
   "outputs": [],
   "source": [
    "#SOLO PER PROVARE\n",
    "init.val.Am.S1.1 <- list(N =100000,mu = 154,sigma =7,c.mu = 156, c.1=1000, c.2 = 0.5,offset=2000,\n",
    "                     .RNG.seed  = 1996,.RNG.name = \"base::Mersenne-Twister\")\n",
    "init.val.Am.S1.2 <- list(N =170000,mu = 155,sigma =10,c.mu = 150, c.1=2000, c.2 = 0.1, offset=1200,\n",
    "                     .RNG.seed  = 1996,.RNG.name = \"base::Mersenne-Twister\")\n",
    "init.val.Am.S1.3 <- list(N =185000,mu = 160,sigma =15, c.mu=160, c.1=1200, c.2 = 0.6, offset=800,\n",
    "                     .RNG.seed  = 1996,.RNG.name = \"base::Mersenne-Twister\")\n",
    "init.val.Am.S1 <- list(init.val.Am.S1.1 , init.val.Am.S1.2 , init.val.Am.S1.3 )\n",
    "\n",
    "\n",
    "data.Am.S1<- NULL\n",
    "data.Am.S1$x <- rangeAm$ADC_channel\n",
    "data.Am.S1$y <- rangeAm$Counts\n",
    "data.Am.S1$pi <- pi"
   ]
  },
  {
   "cell_type": "code",
   "execution_count": null,
   "metadata": {},
   "outputs": [],
   "source": [
    "jm.Am.S1 <- jags.model(model.Am.S1, data.Am.S1, init.val.Am.S1,n.adapt=0,n.chains=3)\n",
    "update(jm.Am.S1, 1000)\n",
    "chain.Am.S1 <- coda.samples(jm.Am.S1 , c(\"N\",\"mu\", \"sigma\",\"c.1\",\"c.2\",\"c.mu\",\"offset\"), n.iter=10000, thin=15) "
   ]
  },
  {
   "cell_type": "code",
   "execution_count": null,
   "metadata": {},
   "outputs": [],
   "source": [
    "#Gelman and Rubin's convergence diagnostic:ratio between variance between the chains and variance within a chain\n",
    "gelman.diag(chain.Am.S1)$psrf[,1]\n",
    "cat(paste(\"Total chain R value:\",gelman.diag(chain.Am.S1)$ mpsrf))"
   ]
  },
  {
   "cell_type": "code",
   "execution_count": null,
   "metadata": {},
   "outputs": [],
   "source": [
    "params=summary(chain.Am.S1)$statistics[,1:2]\n",
    "params"
   ]
  },
  {
   "cell_type": "code",
   "execution_count": null,
   "metadata": {},
   "outputs": [],
   "source": [
    "total.chain.Am.S1 <- mcmc(do.call(rbind, chain.Am.S1),thin=thin(chain.Am.S1)) #combines the three chains"
   ]
  },
  {
   "cell_type": "code",
   "execution_count": null,
   "metadata": {
    "scrolled": false
   },
   "outputs": [],
   "source": [
    "par(mfrow=c(4,2),mar=c(5,5.5,4,0.7))\n",
    "options(repr.plot.width=15, repr.plot.height=30)\n",
    "\n",
    "chain.Am.S1.df <- as.data.frame ( as.mcmc( total.chain.Am.S1 ) )\n",
    "\n",
    "for (p in names(chain.Am.S1.df)){\n",
    "    plot.stats.2(total.chain.Am.S1, p, leg=TRUE, digits=8)\n",
    "}\n"
   ]
  },
  {
   "cell_type": "markdown",
   "metadata": {},
   "source": [
    "VISUALIZATION OF THE CHAIN"
   ]
  },
  {
   "cell_type": "code",
   "execution_count": null,
   "metadata": {
    "scrolled": false
   },
   "outputs": [],
   "source": [
    "#VISUALIZATION OF THE CHAIN\n",
    "\n",
    "options(repr.plot.width=10, repr.plot.height=15)\n",
    "plot(chain.Am.S1,cex.lab=1.3, cex.axis=1.3, cex.main=1.3, cex.sub=1.3)"
   ]
  },
  {
   "cell_type": "markdown",
   "metadata": {},
   "source": [
    "VISUALIZATION OF AUTOCORRELATION"
   ]
  },
  {
   "cell_type": "code",
   "execution_count": null,
   "metadata": {
    "scrolled": false
   },
   "outputs": [],
   "source": [
    "autocorr.plot(chain.Am.S1.df,mfrow=c(3,3),cex.lab=1.3, cex.axis=1.3, cex.main=1.3, cex.sub=1.3)"
   ]
  },
  {
   "cell_type": "markdown",
   "metadata": {},
   "source": [
    "VISUALIZATION OF CORRELATION BETWEEN PARAMETERS"
   ]
  },
  {
   "cell_type": "code",
   "execution_count": null,
   "metadata": {
    "scrolled": false
   },
   "outputs": [],
   "source": [
    "plot.correlations(chain.Am.S1.df,c(3,3))"
   ]
  },
  {
   "cell_type": "markdown",
   "metadata": {},
   "source": [
    "### LOGPosterior"
   ]
  },
  {
   "cell_type": "code",
   "execution_count": null,
   "metadata": {},
   "outputs": [],
   "source": [
    "y=data.Am.S1$y\n",
    "x=data.Am.S1$x \n",
    "parametri <- as.data.frame(as.mcmc(total.chain.Am.S1))\n",
    "\n",
    "\n",
    "\n",
    "best.params <- c(0,0,0,0,0)\n",
    "LogPostBest <- -Inf\n",
    "\n",
    "for (j in 1:dim(total.chain.Am.S1)[1]){\n",
    "\n",
    "    \n",
    "    N=parametri$N[j]\n",
    "    mu=parametri$mu[j] \n",
    "    sigma=parametri$sigma[j]\n",
    "    c.1=parametri$c.1[j]\n",
    "    c.2=parametri$c.2[j]\n",
    "    c.mu=parametri$c.mu[j]\n",
    "    offset=parametri$offset[j]\n",
    "\n",
    "  \n",
    "    #LogLikelihood\n",
    "\n",
    "    LogL <- 0\n",
    "\n",
    "    for (i in 1:length(y)){\n",
    "\n",
    "        point <- N/sqrt(2*pi*sigma*sigma)*exp((-(x[i]-mu)*(x[i]-mu))/(2*sigma*sigma)) + #+  #normal generative model\n",
    "                                c.1/(1+exp(c.2*(x[i]-c.mu))) + offset  #line generative model\n",
    "\n",
    "        p.y <- dpois(y[i], point) \n",
    "\n",
    "        LogL <- LogL + log(p.y)\n",
    "\n",
    "    }\n",
    "    \n",
    "\n",
    "    #LogPrior\n",
    "    p.N <- dunif(N,50000,500000)           \n",
    "    p.mu <- dunif(mu,150,165)        \n",
    "    p.sigma <- dgamma(sigma,6,2)          \n",
    "    p.c.1 <- dunif(c.1,400,3000)\n",
    "    p.c.2 <- dunif(c.2,0,1) \n",
    "    p.c.mu <- dnorm(c.mu,mu,1)\n",
    "    p.offset <- dunif(offset,0,2000) \n",
    " \n",
    "    LogPrior <- log(p.N) + log(p.mu) + log(p.sigma) + log(p.c.1) + \n",
    "                log(p.sigma) + log(p.c.2) + log(p.c.mu) + log(p.offset)\n",
    "\n",
    "\n",
    "    #LogPost\n",
    "    LogPost <- LogPrior + LogL\n",
    "\n",
    "    #cat(paste(\"LogL:\",LogL,\"\\n\"))\n",
    "    #cat(paste(\"LogPost:\",LogPost,\"\\n\"))\n",
    "\n",
    "    \n",
    "    \n",
    "    #check for maximum of the posterior\n",
    "    if(LogPost > LogPostBest){\n",
    "        LogPostBest <- LogPost\n",
    "        best.params <- c(N, c.1, c.2, c.mu, mu, offset, sigma)\n",
    "    }\n",
    "    \n",
    "}\n",
    "\n"
   ]
  },
  {
   "cell_type": "code",
   "execution_count": null,
   "metadata": {},
   "outputs": [],
   "source": [
    "cat(best.params)"
   ]
  },
  {
   "cell_type": "code",
   "execution_count": null,
   "metadata": {
    "scrolled": false
   },
   "outputs": [],
   "source": [
    "###confronto tra media, moda e originale\n",
    "params=summary(chain.Am.S1)$statistics[,1]\n",
    "mlu <- mode.lower.upper.func(total.chain.Am.S1)\n",
    "mlu\n",
    "\n",
    "\n",
    "\n",
    "extracted <-  sapply(data.Am.S1$x,Gauss.Sig.func, N=best.params[1],c.1=best.params[2],c.2=best.params[3],c.mu=best.params[4],mu=best.params[5],offset=best.params[6],sigma=best.params[7])\n",
    "extracted.moda <-  sapply(data.Am.S1$x, Gauss.Sig.func,N=mlu[1,1],c.1=mlu[2,1],c.2=mlu[3,1],c.mu=mlu[4,1],mu=mlu[5,1],offset=mlu[6,1],sigma=mlu[7,1])\n",
    "extracted.mean <-  sapply(data.Am.S1$x, Gauss.Sig.func,N=params[1],c.1=params[2],c.2=params[3],c.mu=params[4],mu=params[5],offset=params[6],sigma=params[7])\n",
    "\n",
    "\n",
    "plot.func.total.1(data.Am.S1$x,data.Am.S1$y,extracted,extracted.moda,extracted.mean,title=(\"Americium (Gaussian + Sigmoid) E = 0.059 MeV\"))"
   ]
  },
  {
   "cell_type": "markdown",
   "metadata": {},
   "source": [
    "## Routti and Prussin Peak-Shape Function (1969) [1] "
   ]
  },
  {
   "cell_type": "markdown",
   "metadata": {},
   "source": [
    "$\\text{Background}(x |c.1,c.2,\\mu_{\\sigma},\\text{offset}) = \n",
    "    \\frac{c.1}{1+\\exp \\left[ c.2(x-\\mu_{s})\\right] } + \\text{offset}\n",
    "$\n",
    "\n",
    "\n",
    "$\\text{Signal}(x |\\text{A},J,\\mu,\\sigma) = \\begin{cases}\n",
    "    A \\exp\\left[ \\frac{J (2x-2\\mu+J)}{2\\sigma^2} \\right]& \\mbox{if } x < \\mu-J \\\\\n",
    "   A \\exp\\left[ -\\frac{(x-\\mu)^2}{2\\sigma^2} \\right]   & \\mbox{if } x > \\mu-J\n",
    "\\end{cases}\n",
    "$\n",
    "\n",
    "\n",
    "\n",
    "\n",
    "$\\text{Total}(x |\\text{A},J,\\mu,\\sigma,c.1,c.2,\\mu_{\\sigma},\\text{offset}) = \\begin{cases}\n",
    "    A \\exp\\left[ \\frac{J (2x-2\\mu+J)}{2\\sigma^2} \\right]+ \\frac{c.1}{1+\\exp \\left[ c.2(x-\\mu_{s})\\right] } + \\text{offset}& \\mbox{if } x < \\mu-J \\\\\n",
    "   A \\exp\\left[ -\\frac{(x-\\mu)^2}{2\\sigma^2} \\right] + \\frac{c.1}{1+\\exp \\left[ c.2(x-\\mu_{s})\\right] } + \\text{offset} & \\mbox{if } x > \\mu-J\n",
    "\\end{cases}\n",
    "$"
   ]
  },
  {
   "cell_type": "code",
   "execution_count": null,
   "metadata": {},
   "outputs": [],
   "source": [
    "cat(\"model{\n",
    "    #data likelihood\n",
    "    for (i in 1:length(x)){\n",
    "\n",
    "                        \n",
    "    points[i] <- step(mu - J - x[i])*(c.1/(1 + exp(c.2*(x[i] - c.mu))) + offset +  (A/sigma)*exp(J*(2*x[i] - 2*mu + J)/(2*sigma*sigma))) +\n",
    "                 step(x[i] - mu + J)*(c.1/(1 + exp(c.2*(x[i] - c.mu))) + offset + (A/sigma)*exp((-(x[i]-mu)*(x[i]-mu))/(2*sigma*sigma)))\n",
    "\n",
    "    y[i] ~ dpois(points[i])\n",
    "\n",
    "    }\n",
    "    #priors for the generative model\n",
    "    \n",
    "    A ~ dunif(50000,500000)\n",
    "    mu ~ dunif(150,170)\n",
    "    sigma ~ dgamma(0.0085,0.001)\n",
    "    c.1 ~ dunif(1000,4000)   \n",
    "    c.2 ~ dunif(0,0.6)  \n",
    "    c.mu ~ dnorm(mu,1/4)\n",
    "    J ~ dunif(0,100)\n",
    "    offset ~ dnorm(500,2000) \n",
    "\n",
    "}\", file=\"Bmodel.americium.txt\")\n",
    "\n",
    "model.Am <- \"Bmodel.americium.txt\""
   ]
  },
  {
   "cell_type": "code",
   "execution_count": null,
   "metadata": {},
   "outputs": [],
   "source": [
    "#SOLO PER PROVARE\n",
    "init.val.Am.1 <- list(A =110000,mu = 154,sigma =7,c.mu = 156, c.1=1000, c.2 = 0.5,offset=2000, J=5,\n",
    "                     .RNG.seed  = 1996,.RNG.name = \"base::Mersenne-Twister\")\n",
    "init.val.Am.2 <- list(A =150000,mu = 155,sigma =10,c.mu = 150, c.1=2000, c.2 = 0.1, offset=1200, J=50,\n",
    "                     .RNG.seed  = 1996,.RNG.name = \"base::Mersenne-Twister\")\n",
    "init.val.Am.3 <- list(A =300000,mu = 160,sigma =15, c.mu=160, c.1=1200, c.2 = 0.6, offset=800, J=28,\n",
    "                     .RNG.seed  = 1996,.RNG.name = \"base::Mersenne-Twister\")\n",
    "init.val.Am <- list(init.val.Am.1 , init.val.Am.2 , init.val.Am.3 )\n",
    "\n",
    "\n",
    "data.Am<- NULL\n",
    "data.Am$x <- rangeAm$ADC_channel\n",
    "data.Am$y <- rangeAm$Counts"
   ]
  },
  {
   "cell_type": "code",
   "execution_count": null,
   "metadata": {},
   "outputs": [],
   "source": [
    "jm.Am <- jags.model(model.Am, data.Am, init.val.Am,n.adapt=0,n.chains=3)\n",
    "update(jm.Am, 5000)\n",
    "chain.Am <- coda.samples(jm.Am , c(\"A\",\"mu\", \"sigma\",\"c.1\",\"c.2\",\"c.mu\",\"offset\",\"J\"), n.iter=50000, thin=20) "
   ]
  },
  {
   "cell_type": "code",
   "execution_count": null,
   "metadata": {},
   "outputs": [],
   "source": [
    "#Gelman and Rubin's convergence diagnostic:ratio between variance between the chains and variance within a chain\n",
    "gelman.diag(chain.Am)$psrf[,1]\n",
    "cat(paste(\"Total chain R value:\",gelman.diag(chain.Am)$ mpsrf))"
   ]
  },
  {
   "cell_type": "code",
   "execution_count": null,
   "metadata": {},
   "outputs": [],
   "source": [
    "params=summary(chain.Am)$statistics[,1:2]\n",
    "params"
   ]
  },
  {
   "cell_type": "code",
   "execution_count": null,
   "metadata": {},
   "outputs": [],
   "source": [
    "total.chain.Am <- mcmc(do.call(rbind, chain.Am),thin=thin(chain.Am)) #combines the three chains"
   ]
  },
  {
   "cell_type": "code",
   "execution_count": null,
   "metadata": {
    "scrolled": false
   },
   "outputs": [],
   "source": [
    "par(mfrow=c(4,2),mar=c(5,5.5,4,0.7))\n",
    "options(repr.plot.width=15, repr.plot.height=30)\n",
    "\n",
    "chain.Am.df <- as.data.frame ( as.mcmc( total.chain.Am ) )\n",
    "\n",
    "for (p in names(chain.Am.df)){\n",
    "    plot.stats.2(total.chain.Am, p, leg=TRUE, digits=8)\n",
    "}\n"
   ]
  },
  {
   "cell_type": "markdown",
   "metadata": {},
   "source": [
    "VISUALIZATION OF THE CHAIN"
   ]
  },
  {
   "cell_type": "code",
   "execution_count": null,
   "metadata": {
    "scrolled": false
   },
   "outputs": [],
   "source": [
    "#VISUALIZATION OF THE CHAIN\n",
    "\n",
    "options(repr.plot.width=10, repr.plot.height=15)\n",
    "plot(chain.Am,cex.lab=1.3, cex.axis=1.3, cex.main=1.3, cex.sub=1.3)"
   ]
  },
  {
   "cell_type": "markdown",
   "metadata": {},
   "source": [
    "VISUALIZATION OF AUTOCORRELATION"
   ]
  },
  {
   "cell_type": "code",
   "execution_count": null,
   "metadata": {
    "scrolled": false
   },
   "outputs": [],
   "source": [
    "autocorr.plot(chain.Am.df,mfrow=c(3,3),cex.lab=1.3, cex.axis=1.3, cex.main=1.3, cex.sub=1.3)"
   ]
  },
  {
   "cell_type": "markdown",
   "metadata": {},
   "source": [
    "VISUALIZATION OF CORRELATION BETWEEN PARAMETERS"
   ]
  },
  {
   "cell_type": "code",
   "execution_count": null,
   "metadata": {
    "scrolled": false
   },
   "outputs": [],
   "source": [
    "plot.correlations(chain.Am.df,c(3,3))"
   ]
  },
  {
   "cell_type": "markdown",
   "metadata": {},
   "source": [
    "### LOGPosterior"
   ]
  },
  {
   "cell_type": "code",
   "execution_count": null,
   "metadata": {},
   "outputs": [],
   "source": [
    "y=data.Am$y\n",
    "x=data.Am$x \n",
    "parametri <- as.data.frame(as.mcmc(total.chain.Am))\n",
    "\n",
    "\n",
    "\n",
    "best.params <- c(0,0,0,0,0)\n",
    "LogPostBest <- -Inf\n",
    "\n",
    "for (j in 1:dim(total.chain.Am)[1]){\n",
    "\n",
    "    J=parametri$J[j]\n",
    "    A=parametri$A[j]\n",
    "    mu=parametri$mu[j] \n",
    "    sigma=parametri$sigma[j]\n",
    "    c.1=parametri$c.1[j]\n",
    "    c.2=parametri$c.2[j]\n",
    "    c.mu=parametri$c.mu[j]\n",
    "    offset=parametri$offset[j]\n",
    "\n",
    "  \n",
    "    #LogLikelihood\n",
    "\n",
    "    LogL <- 0\n",
    "\n",
    "    for (i in 1:length(y)){\n",
    "\n",
    "        point <- Heaviside(mu - J - x[i],a=0)*(c.1/(1 + exp(c.2*(x[i] - c.mu))) + offset +  A/(sigma)*exp(J*(2*x[i] - 2*mu + J)/(2*sigma*sigma))) +\n",
    "                 Heaviside(x[i] - mu + J,a=0)*(c.1/(1 + exp(c.2*(x[i] - c.mu))) + offset + A/(sigma)*exp((-(x[i]-mu)*(x[i]-mu))/(2*sigma*sigma)))\n",
    "\n",
    "\n",
    "        p.y <- dpois(y[i], point) \n",
    "\n",
    "        LogL <- LogL + log(p.y)\n",
    "\n",
    "    }\n",
    "    \n",
    "\n",
    "    #LogPrior\n",
    "    p.A <- dunif(A,50000,500000)           \n",
    "    p.mu <- dunif(mu,150,170)        \n",
    "    p.sigma <- dgamma(sigma,60,7)          \n",
    "    p.c.1 <- dunif(c.1,1000,4000)\n",
    "    p.c.2 <- dunif(c.2,0,0.6) \n",
    "    p.c.mu <- dnorm(c.mu,mu,1/4)\n",
    "    p.offset <- dunif(offset,500,2000) \n",
    "    p.J <- dunif(J,0,100)\n",
    " \n",
    "    LogPrior <- log(p.A) + log(p.mu) + log(p.sigma) + log(p.c.1) + \n",
    "                log(p.sigma) + log(p.c.2) + log(p.c.mu) + log(p.offset) + log(p.J)\n",
    "\n",
    "\n",
    "    #LogPost\n",
    "    LogPost <- LogPrior + LogL\n",
    "\n",
    "    #cat(paste(\"LogL:\",LogL,\"\\n\"))\n",
    "    #cat(paste(\"LogPost:\",LogPost,\"\\n\"))\n",
    "\n",
    "    \n",
    "    \n",
    "    #check for maximum of the posterior\n",
    "    if(LogPost > LogPostBest){\n",
    "        LogPostBest <- LogPost\n",
    "        best.params <- c(A,J,  c.1, c.2, c.mu, mu, offset, sigma)\n",
    "    }\n",
    "    \n",
    "}\n",
    "\n"
   ]
  },
  {
   "cell_type": "code",
   "execution_count": null,
   "metadata": {},
   "outputs": [],
   "source": [
    "cat(best.params)"
   ]
  },
  {
   "cell_type": "code",
   "execution_count": null,
   "metadata": {},
   "outputs": [],
   "source": [
    "mlu"
   ]
  },
  {
   "cell_type": "code",
   "execution_count": null,
   "metadata": {},
   "outputs": [],
   "source": [
    "###confronto tra media, moda e originale\n",
    "params=summary(chain.Am)$statistics[,1]\n",
    "mlu <- mode.lower.upper.func(total.chain.Am)\n",
    "#mlu\n",
    "\n",
    "\n",
    "\n",
    "extracted <-  sapply(data.Am$x,piecewise,A=best.params[1],J=best.params[2],c.1=best.params[3],c.2=best.params[4],c.mu=best.params[5],mu=best.params[6],offset=best.params[7],sigma=best.params[8])\n",
    "extracted.moda <-  sapply(data.Am$x, piecewise,A=mlu[1,1],J=mlu[2,1],c.1=mlu[3,1],c.2=mlu[4,1],c.mu=mlu[5,1],mu=mlu[6,1],offset=mlu[7,1],sigma=mlu[8,1])\n",
    "extracted.mean <-  sapply(data.Am$x, piecewise,A=params[1],J=params[2],c.1=params[3],c.2=params[4],c.mu=params[5],mu=params[6],offset=params[7],sigma=params[8])\n",
    "\n",
    "plot.func.total.1(data.Am$x,data.Am$y,extracted,extracted.moda,extracted.mean,title=(\"Americium E = 0.059 MeV\"))"
   ]
  },
  {
   "cell_type": "markdown",
   "metadata": {},
   "source": [
    "### Integration Routti-Prussin"
   ]
  },
  {
   "cell_type": "code",
   "execution_count": null,
   "metadata": {},
   "outputs": [],
   "source": [
    "Routti.Prussin.peak.fix<- function(z)\n",
    "    {\n",
    "    return(Routti.Prussin.peak(z,A=best.params[1],J=best.params[2],mu=best.params[6],sigma=best.params[8]))\n",
    "    }"
   ]
  },
  {
   "cell_type": "code",
   "execution_count": null,
   "metadata": {},
   "outputs": [],
   "source": [
    "int2 <- integrate(Routti.Prussin.peak.fix,lower=(params[6]-1.55*sqrt(8*log(2))*params[8]), upper=(params[6]+1.55*sqrt(8*log(2))*params[8]))$value "
   ]
  },
  {
   "cell_type": "code",
   "execution_count": null,
   "metadata": {},
   "outputs": [],
   "source": [
    "int2"
   ]
  },
  {
   "cell_type": "code",
   "execution_count": null,
   "metadata": {},
   "outputs": [],
   "source": [
    "params <- summary(chain.Am)$statistics[,1:2]\n",
    "params"
   ]
  },
  {
   "cell_type": "markdown",
   "metadata": {},
   "source": [
    "# CESIUM"
   ]
  },
  {
   "cell_type": "code",
   "execution_count": null,
   "metadata": {},
   "outputs": [],
   "source": [
    "summary.table[\"Cs\",]"
   ]
  },
  {
   "cell_type": "code",
   "execution_count": null,
   "metadata": {},
   "outputs": [],
   "source": [
    "rangeCs = dataset[!(dataset$ADC_channel<=summary.table[\"Cs\",\"range.gauss.min\"]) & (dataset$ADC_channel<=summary.table[\"Cs\",\"range.gauss.max\"]),]\n",
    "rangeCs <- data.frame(rangeCs[\"Counts\"], rangeCs[\"ADC_channel\"])\n",
    "head(rangeCs)"
   ]
  },
  {
   "cell_type": "code",
   "execution_count": null,
   "metadata": {},
   "outputs": [],
   "source": [
    "options(repr.plot.width=10, repr.plot.height=7)\n",
    "par(mfrow=c(1,2))\n",
    "plot(rangeCs$ADC_channel,rangeCs$Counts, type = \"p\", col='red', main = 'Cs E = 0.66 MeV', xlab = 'ADC channel [#]', ylab = \"Counts [#]\",cex.main = 1.5)\n",
    "plot(rangeCs$ADC_channel,log(rangeCs$Counts), type = \"p\", col='red', main = 'Cs E = 0.66 MeV', xlab = 'ADC channel [#]', ylab = \"log(Counts) [#]\",cex.main = 1.5)"
   ]
  },
  {
   "cell_type": "markdown",
   "metadata": {},
   "source": [
    "## GAUSSIAN"
   ]
  },
  {
   "cell_type": "code",
   "execution_count": null,
   "metadata": {},
   "outputs": [],
   "source": [
    "cat(\"model{\n",
    "    #data likelihood\n",
    "    for (i in 1:length(x)){\n",
    "\n",
    "        points[i] <- N/sqrt(2*pi*sigma*sigma)*exp((-(x[i]-mu)*(x[i]-mu))/(2*sigma*sigma)) +\n",
    "                     c.1/(1+exp(c.2*(x[i]-c.mu))) + offset\n",
    "                        \n",
    "        y[i] ~ dpois(points[i])\n",
    "\n",
    "\n",
    "    }\n",
    "    #priors for the generative model\n",
    "\n",
    "    N ~ dunif(100000,1500000)\n",
    "    mu ~ dunif(1700,1800)\n",
    "    sigma ~ dgamma(0.0085,0.001)\n",
    "    c.1 ~ dunif(0,400)\n",
    "    c.2 ~ dunif(0,0.4) \n",
    "    c.mu ~ dnorm(mu,1)\n",
    "    offset ~ dunif(0,500) \n",
    "\n",
    "    \n",
    "\n",
    "}\", file=\"BUGS_model_Cs_S1.txt\")\n",
    "model.Cs.S1 <- \"BUGS_model_Cs_S1.txt\"\n"
   ]
  },
  {
   "cell_type": "code",
   "execution_count": null,
   "metadata": {},
   "outputs": [],
   "source": [
    "init.val.Cs.S1.1 <- list(N =300000,mu = 1720,sigma =2, offset=300, c.mu = 1720, c.1=100, c.2 = 0.1,\n",
    "                     .RNG.seed  = 1996,.RNG.name = \"base::Mersenne-Twister\")\n",
    "init.val.Cs.S1.2 <- list(N =500000,mu = 1760,sigma =15, offset=400, c.mu = 1760, c.1=20, c.2 = 0.4, \n",
    "                    .RNG.seed  = 1996,.RNG.name = \"base::Mersenne-Twister\")\n",
    "init.val.Cs.S1.3 <- list(N =600000,mu = 1740,sigma =10, offset=220, c.mu = 1740, c.1=200, c.2 = 0.003,\n",
    "                    .RNG.seed  = 1996,.RNG.name = \"base::Mersenne-Twister\")\n",
    "init.val.Cs.S1 <- list(init.val.Cs.S1.1 , init.val.Cs.S1.2 , init.val.Cs.S1.3)\n",
    "\n",
    "data.Cs.S1 <- NULL\n",
    "data.Cs.S1$x <- rangeCs$ADC_channel\n",
    "data.Cs.S1$y <- rangeCs$Counts\n",
    "data.Cs.S1$pi <- pi"
   ]
  },
  {
   "cell_type": "code",
   "execution_count": null,
   "metadata": {},
   "outputs": [],
   "source": [
    "jm.Cs.S1 <- jags.model(model.Cs.S1, data.Cs.S1, init.val.Cs.S1,n.adapt=0,n.chains=3)\n",
    "update(jm.Cs.S1, 1000)\n",
    "chain.Cs.S1 <- coda.samples(jm.Cs.S1 , c(\"N\",\"mu\", \"sigma\",\"c.1\",\"c.2\",\"c.mu\",\"offset\"), n.iter=12000, thin=25) "
   ]
  },
  {
   "cell_type": "code",
   "execution_count": null,
   "metadata": {},
   "outputs": [],
   "source": [
    "#Gelman and Rubin's convergence diagnostic:ratio between variance between the chains and variance within a chain\n",
    "gelman.diag(chain.Cs.S1)$psrf[,1]\n",
    "cat(paste(\"Total chain R value:\",gelman.diag(chain.Cs.S1)$ mpsrf))"
   ]
  },
  {
   "cell_type": "code",
   "execution_count": null,
   "metadata": {},
   "outputs": [],
   "source": [
    "params=summary(chain.Cs.S1)$statistics[,1:2]\n",
    "params"
   ]
  },
  {
   "cell_type": "code",
   "execution_count": null,
   "metadata": {},
   "outputs": [],
   "source": [
    "total.chain.Cs.S1 <- mcmc(do.call(rbind, chain.Cs.S1),thin=thin(chain.Cs.S1)) #combines the three chains"
   ]
  },
  {
   "cell_type": "code",
   "execution_count": null,
   "metadata": {
    "scrolled": false
   },
   "outputs": [],
   "source": [
    "par(mfrow=c(4,2),mar=c(5,5.5,4,0.7))\n",
    "options(repr.plot.width=15, repr.plot.height=30)\n",
    "\n",
    "chain.Cs.S1.df <- as.data.frame ( as.mcmc( total.chain.Cs.S1 ) )\n",
    "\n",
    "for (p in names(chain.Cs.S1.df)){\n",
    "    plot.stats.2(total.chain.Cs.S1, p, leg=TRUE, digits=8)\n",
    "}\n"
   ]
  },
  {
   "cell_type": "markdown",
   "metadata": {},
   "source": [
    "VISUALIZATION OF THE CHAIN"
   ]
  },
  {
   "cell_type": "code",
   "execution_count": null,
   "metadata": {
    "scrolled": false
   },
   "outputs": [],
   "source": [
    "#VISUALIZATION OF THE CHAIN\n",
    "\n",
    "options(repr.plot.width=10, repr.plot.height=15)\n",
    "plot(chain.Cs.S1,cex.lab=1.3, cex.axis=1.3, cex.main=1.3, cex.sub=1.3)"
   ]
  },
  {
   "cell_type": "markdown",
   "metadata": {},
   "source": [
    "VISUALIZATION OF AUTOCORRELATION"
   ]
  },
  {
   "cell_type": "code",
   "execution_count": null,
   "metadata": {
    "scrolled": false
   },
   "outputs": [],
   "source": [
    "autocorr.plot(chain.Cs.S1.df,mfrow=c(3,3),cex.lab=1.3, cex.axis=1.3, cex.main=1.3, cex.sub=1.3)"
   ]
  },
  {
   "cell_type": "markdown",
   "metadata": {},
   "source": [
    "VISUALIZATION OF CORRELATION BETWEEN PARAMETERS"
   ]
  },
  {
   "cell_type": "code",
   "execution_count": null,
   "metadata": {
    "scrolled": false
   },
   "outputs": [],
   "source": [
    "plot.correlations(chain.Cs.S1.df,c(3,3))"
   ]
  },
  {
   "cell_type": "markdown",
   "metadata": {},
   "source": [
    "### LOGPosterior"
   ]
  },
  {
   "cell_type": "code",
   "execution_count": null,
   "metadata": {},
   "outputs": [],
   "source": [
    "y=data.Cs.S1$y\n",
    "x=data.Cs.S1$x \n",
    "parametri <- as.data.frame(as.mcmc(total.chain.Cs.S1))\n",
    "\n",
    "\n",
    "\n",
    "best.params <- c(0,0,0,0,0)\n",
    "LogPostBest <- -Inf\n",
    "\n",
    "for (j in 1:dim(total.chain.Cs.S1)[1]){\n",
    "\n",
    "    \n",
    "    N=parametri$N[j]\n",
    "    mu=parametri$mu[j] \n",
    "    sigma=parametri$sigma[j]\n",
    "    c.1=parametri$c.1[j]\n",
    "    c.2=parametri$c.2[j]\n",
    "    c.mu=parametri$c.mu[j]\n",
    "    offset=parametri$offset[j]\n",
    "\n",
    "  \n",
    "    #LogLikelihood\n",
    "\n",
    "    LogL <- 0\n",
    "\n",
    "    for (i in 1:length(y)){\n",
    "\n",
    "        point <- N/sqrt(2*pi*sigma*sigma)*exp((-(x[i]-mu)*(x[i]-mu))/(2*sigma*sigma)) + #+  #normal generative model\n",
    "                                c.1/(1+exp(c.2*(x[i]-c.mu))) + offset  #line generative model\n",
    "\n",
    "        p.y <- dpois(y[i], point) \n",
    "\n",
    "        LogL <- LogL + log(p.y)\n",
    "\n",
    "    }\n",
    "    \n",
    "\n",
    "    #LogPrior\n",
    "    p.N <- dunif(N,100000,1500000)           \n",
    "    p.mu <- dunif(mu,1700,1800)        \n",
    "    p.sigma <- dgamma(sigma,60,7)          \n",
    "    p.c.1 <- dunif(c.1,0,400)\n",
    "    p.c.2 <- dunif(c.2,0,0.6) \n",
    "    p.c.mu <- dnorm(c.mu,mu,1)\n",
    "    p.offset <- dunif(offset,0,500) # E' il valore del plateau a dx\n",
    "    \n",
    "    LogPrior <- log(p.N) + log(p.mu) + log(p.sigma) + log(p.c.1) + \n",
    "                log(p.sigma) + log(p.c.2) + log(p.c.mu) + log(p.offset)\n",
    "\n",
    "\n",
    "    #LogPost\n",
    "    LogPost <- LogPrior + LogL\n",
    "\n",
    "    #cat(paste(\"LogL:\",LogL,\"\\n\"))\n",
    "    #cat(paste(\"LogPost:\",LogPost,\"\\n\"))\n",
    "\n",
    "    \n",
    "    \n",
    "    #check for maximum of the posterior\n",
    "    if(LogPost > LogPostBest){\n",
    "        LogPostBest <- LogPost\n",
    "        best.params <- c(N, c.1, c.2, c.mu, mu, offset, sigma)\n",
    "    }\n",
    "    \n",
    "}\n",
    "best.params[2] <- best.params[2]\n"
   ]
  },
  {
   "cell_type": "code",
   "execution_count": null,
   "metadata": {},
   "outputs": [],
   "source": [
    "cat(best.params)"
   ]
  },
  {
   "cell_type": "code",
   "execution_count": null,
   "metadata": {
    "scrolled": false
   },
   "outputs": [],
   "source": [
    "###confronto tra media, moda e originale\n",
    "params=summary(chain.Cs.S1)$statistics[,1]\n",
    "mlu <- mode.lower.upper.func(total.chain.Cs.S1)\n",
    "mlu\n",
    "\n",
    "\n",
    "\n",
    "extracted <-  sapply(data.Cs.S1$x,Gauss.Sig.func, N=best.params[1],c.1=best.params[2],c.2=best.params[3],c.mu=best.params[4],mu=best.params[5],offset=best.params[6],sigma=best.params[7])\n",
    "extracted.moda <-  sapply(data.Cs.S1$x, Gauss.Sig.func,N=mlu[1,1],c.1=mlu[2,1],c.2=mlu[3,1],c.mu=mlu[4,1],mu=mlu[5,1],offset=mlu[6,1],sigma=mlu[7,1])\n",
    "extracted.mean <-  sapply(data.Cs.S1$x, Gauss.Sig.func,N=params[1],c.1=params[2],c.2=params[3],c.mu=params[4],mu=params[5],offset=params[6],sigma=params[7])\n",
    "\n",
    "\n",
    "plot.func.total.1(data.Cs.S1$x,data.Cs.S1$y,extracted,extracted.moda,extracted.mean,title=(\"Cesium (Gaussian + Sigmoid) E = 0.66 MeV\"))"
   ]
  },
  {
   "cell_type": "markdown",
   "metadata": {},
   "source": [
    "## Routti and Prussin Peak-Shape Function (1969) [1] "
   ]
  },
  {
   "cell_type": "code",
   "execution_count": null,
   "metadata": {},
   "outputs": [],
   "source": [
    "cat(\"model{\n",
    "    #data likelihood\n",
    "    for (i in 1:length(x)){\n",
    "\n",
    "                        \n",
    "    points[i] <- step(mu - J - x[i])*(c.1/(1 + exp(c.2*(x[i] - c.mu))) + offset +  A/(sigma)*exp(J*(2*x[i] - 2*mu + J)/(2*sigma*sigma))) +\n",
    "                 step(x[i] - mu + J)*(c.1/(1 + exp(c.2*(x[i] - c.mu))) + offset + A/(sigma)*exp((-(x[i]-mu)*(x[i]-mu))/(2*sigma*sigma)))\n",
    "\n",
    "    y[i] ~ dpois(points[i])\n",
    "\n",
    "    }\n",
    "    #priors for the generative model\n",
    "    A ~ dunif(50000,1000000)\n",
    "    mu ~ dunif(1700,1800)\n",
    "    sigma ~ dgamma(0.0085,0.001)\n",
    "    c.1 ~ dunif(0,400)\n",
    "    c.2 ~ dunif(0,0.5)  \n",
    "    c.mu ~ dnorm(mu,1/4)\n",
    "    J ~ dunif(0,100)\n",
    "    offset ~ dunif(220,500) \n",
    "\n",
    "}\", file=\"Bmodel.cesium.txt\")\n",
    "\n",
    "model.Cs <- \"Bmodel.cesium.txt\"\n"
   ]
  },
  {
   "cell_type": "code",
   "execution_count": null,
   "metadata": {},
   "outputs": [],
   "source": [
    "#MODEL SET UP: INITIAL VALUES AND DATA PREPARATION\n",
    "\n",
    "#we make an estimate of the true values looking at the plot\n",
    "#TRUE values are unkown\n",
    "\n",
    "\n",
    "init.val.Cs.1 <- list(A =800000,mu = 1720,sigma =2, offset=300, c.mu = 1720, c.1=100, c.2 = 0.1, J=5,\n",
    "                     .RNG.seed  = 1996,.RNG.name = \"base::Mersenne-Twister\")\n",
    "init.val.Cs.2 <- list(A =250000,mu = 1800,sigma =15, offset=400, c.mu = 1800, c.1=20, c.2 = 0.5, J=1,\n",
    "                    .RNG.seed  = 1996,.RNG.name = \"base::Mersenne-Twister\")\n",
    "init.val.Cs.3 <- list(A =500000,mu = 1700,sigma =10, offset=220, c.mu = 1700, c.1=200, c.2 = 0.01, J=90,\n",
    "                    .RNG.seed  = 1996,.RNG.name = \"base::Mersenne-Twister\")\n",
    "init.val.Cs <- list(init.val.Cs.1 , init.val.Cs.2 , init.val.Cs.3)\n",
    "\n",
    "data.Cs <- NULL\n",
    "data.Cs$x <- rangeCs$ADC_channel\n",
    "data.Cs$y <- rangeCs$Counts"
   ]
  },
  {
   "cell_type": "code",
   "execution_count": null,
   "metadata": {},
   "outputs": [],
   "source": [
    "#reading the model\n",
    "jmCs <- jags.model(model.Cs, data.Cs, inits=init.val.Cs, n.adapt=0, n.chains=3)\n",
    "update(jmCs, 1000)\n",
    "chain.Cs <- coda.samples(jmCs , c(\"A\",\"mu\", \"sigma\",\"c.1\",\"c.2\",\"c.mu\",\"offset\",\"J\"),n.iter=10000, thin=20) "
   ]
  },
  {
   "cell_type": "code",
   "execution_count": null,
   "metadata": {},
   "outputs": [],
   "source": [
    "#Gelman and Rubin's convergence diagnostic:ratio between variance between the chains and variance within a chain\n",
    "gelman.diag(chain.Cs)$psrf[,1]\n",
    "cat(paste(\"Total chain R value:\",gelman.diag(chain.Cs)$ mpsrf))"
   ]
  },
  {
   "cell_type": "code",
   "execution_count": null,
   "metadata": {},
   "outputs": [],
   "source": [
    "params=summary(chain.Cs)$statistics[,1:2]\n",
    "params"
   ]
  },
  {
   "cell_type": "code",
   "execution_count": null,
   "metadata": {},
   "outputs": [],
   "source": [
    "total.chain.Cs <- mcmc(do.call(rbind, chain.Cs),thin=thin(chain.Cs)) #combines the three chains"
   ]
  },
  {
   "cell_type": "code",
   "execution_count": null,
   "metadata": {
    "scrolled": false
   },
   "outputs": [],
   "source": [
    "par(mfrow=c(4,2),mar=c(5,5.5,4,0.7))\n",
    "options(repr.plot.width=15, repr.plot.height=30)\n",
    "\n",
    "chain.Cs.df <- as.data.frame ( as.mcmc( total.chain.Cs ) )\n",
    "\n",
    "for (p in names(chain.Cs.df)){\n",
    "    plot.stats.2(total.chain.Cs, p, leg=TRUE, digits=8)\n",
    "}\n"
   ]
  },
  {
   "cell_type": "markdown",
   "metadata": {
    "scrolled": false
   },
   "source": [
    "VISUALIZATION OF THE CHAIN\n",
    "\n"
   ]
  },
  {
   "cell_type": "code",
   "execution_count": null,
   "metadata": {
    "scrolled": false
   },
   "outputs": [],
   "source": [
    "options(repr.plot.width=10, repr.plot.height=15)\n",
    "plot(chain.Cs,cex.lab=1.3, cex.axis=1.3, cex.main=1.3, cex.sub=1.3)"
   ]
  },
  {
   "cell_type": "markdown",
   "metadata": {},
   "source": [
    "VISUALIZATION OF AUTOCORRELATION"
   ]
  },
  {
   "cell_type": "code",
   "execution_count": null,
   "metadata": {
    "scrolled": false
   },
   "outputs": [],
   "source": [
    "autocorr.plot(chain.Cs.df,cex.lab=1.3, cex.axis=1.3, cex.main=1.3, cex.sub=1.3)"
   ]
  },
  {
   "cell_type": "markdown",
   "metadata": {},
   "source": [
    "VISUALIZATION OF CORRELATION BETWEEN VARIABLES"
   ]
  },
  {
   "cell_type": "code",
   "execution_count": null,
   "metadata": {
    "scrolled": false
   },
   "outputs": [],
   "source": [
    "options(repr.plot.width=10, repr.plot.height=5)\n",
    "plot.correlations(chain.Cs.df, c(3,4))"
   ]
  },
  {
   "cell_type": "markdown",
   "metadata": {},
   "source": [
    "###  LOGPosterior"
   ]
  },
  {
   "cell_type": "code",
   "execution_count": null,
   "metadata": {},
   "outputs": [],
   "source": [
    "y=data.Cs$y\n",
    "x=data.Cs$x \n",
    "parametri <- as.data.frame(as.mcmc(total.chain.Cs))\n",
    "\n",
    "\n",
    "\n",
    "best.params <- c(0,0,0,0,0)\n",
    "LogPostBest <- -Inf\n",
    "\n",
    "for (j in 1:dim(total.chain.Cs)[1]){\n",
    "\n",
    "    J=parametri$J[j]\n",
    "    A=parametri$A[j]\n",
    "    mu=parametri$mu[j] \n",
    "    sigma=parametri$sigma[j]\n",
    "    c.1=parametri$c.1[j]\n",
    "    c.2=parametri$c.2[j]\n",
    "    c.mu=parametri$c.mu[j]\n",
    "    offset=parametri$offset[j]\n",
    "\n",
    "  \n",
    "    #LogLikelihood\n",
    "\n",
    "    LogL <- 0\n",
    "\n",
    "    for (i in 1:length(y)){\n",
    "\n",
    "        point <- Heaviside(mu - J - x[i],a=0)*(c.1/(1 + exp(c.2*(x[i] - c.mu))) + offset +  A/(sigma)*exp(J*(2*x[i] - 2*mu + J)/(2*sigma*sigma))) +\n",
    "                 Heaviside(x[i] - mu + J,a=0)*(c.1/(1 + exp(c.2*(x[i] - c.mu))) + offset + A/(sigma)*exp((-(x[i]-mu)*(x[i]-mu))/(2*sigma*sigma)))\n",
    "\n",
    "\n",
    "        p.y <- dpois(y[i], point) \n",
    "\n",
    "        LogL <- LogL + log(p.y)\n",
    "\n",
    "    }\n",
    "    \n",
    "\n",
    "    #LogPrior\n",
    "    p.A <- dunif(A,100000,1500000)           \n",
    "    p.mu <- dunif(mu,1700,1800)        \n",
    "    p.sigma <- dgamma(sigma,0.0085,0.001)          \n",
    "    p.c.1 <- dunif(c.1,0,400)\n",
    "    p.c.2 <- dunif(c.2,0,200) \n",
    "    p.c.mu ~ dunif(c.mu,mu-5,mu+5)\n",
    "    p.offset <- dunif(offset,220,500) \n",
    "    p.J <- dunif(J,0,100)\n",
    " \n",
    "    LogPrior <- log(p.A) + log(p.mu) + log(p.sigma) + log(p.c.1) + \n",
    "                log(p.sigma) + log(p.c.2) + log(p.c.mu) + log(p.offset) + log(p.J)\n",
    "\n",
    "\n",
    "    #LogPost\n",
    "    LogPost <- LogPrior + LogL\n",
    "\n",
    "    #cat(paste(\"LogL:\",LogL,\"\\n\"))\n",
    "    #cat(paste(\"LogPost:\",LogPost,\"\\n\"))\n",
    "\n",
    "    \n",
    "    \n",
    "    #check for maximum of the posterior\n",
    "    if(LogPost > LogPostBest){\n",
    "        LogPostBest <- LogPost\n",
    "        best.params <- c(A, J, c.1, c.2, c.mu, mu, offset, sigma)\n",
    "    }\n",
    "    \n",
    "}\n",
    "\n"
   ]
  },
  {
   "cell_type": "code",
   "execution_count": null,
   "metadata": {},
   "outputs": [],
   "source": [
    "cat(best.params)"
   ]
  },
  {
   "cell_type": "code",
   "execution_count": null,
   "metadata": {
    "scrolled": false
   },
   "outputs": [],
   "source": [
    "###confronto tra media, moda e originale\n",
    "params=summary(chain.Cs)$statistics[,1]\n",
    "mlu <- mode.lower.upper.func(total.chain.Cs)\n",
    "mlu\n",
    "\n",
    "\n",
    "\n",
    "extracted <-  sapply(data.Cs$x,piecewise,A=best.params[1],J=best.params[2],c.1=best.params[3],c.2=best.params[4],c.mu=best.params[5],mu=best.params[6],offset=best.params[7],sigma=best.params[8])\n",
    "extracted.moda <-  sapply(data.Cs$x, piecewise,A=mlu[1,1],J=mlu[2,1],c.1=mlu[3,1],c.2=mlu[4,1],c.mu=mlu[5,1],mu=mlu[6,1],offset=mlu[7,1],sigma=mlu[8,1])\n",
    "extracted.mean <-  sapply(data.Cs$x, piecewise,A=params[1],J=params[2],c.1=params[3],c.2=params[4],c.mu=params[5],mu=params[6],offset=params[7],sigma=params[8])\n",
    "\n",
    "\n",
    "plot.func.total.1(data.Cs$x,data.Cs$y,extracted,extracted.moda,extracted.mean,title=(\"Cesium E = 0.66 MeV\"))"
   ]
  },
  {
   "cell_type": "markdown",
   "metadata": {},
   "source": [
    "### Integration Routti-Prussin"
   ]
  },
  {
   "cell_type": "code",
   "execution_count": null,
   "metadata": {},
   "outputs": [],
   "source": [
    "Routti.Prussin.peak.fix<- function(z)\n",
    "    {\n",
    "    return(Routti.Prussin.peak(z,A=best.params[1],J=best.params[2],mu=best.params[6],sigma=best.params[8]))\n",
    "    }"
   ]
  },
  {
   "cell_type": "code",
   "execution_count": null,
   "metadata": {},
   "outputs": [],
   "source": [
    "int2 <- integrate(Routti.Prussin.peak.fix,lower=(params[6]-1.55*sqrt(8*log(2))*params[8]), upper=(params[6]+1.55*sqrt(8*log(2))*params[8]))$value \n",
    "int2"
   ]
  },
  {
   "cell_type": "markdown",
   "metadata": {},
   "source": [
    "# FINAL RESULTS"
   ]
  },
  {
   "cell_type": "markdown",
   "metadata": {},
   "source": [
    "The final goal of this analysis was to evaluate the number of counts under each of the considered peaks. In the following table we gather possible estimators for N.\n",
    "\n",
    "The **mode** is the best estimator we can obtain from the marginalized distribution; we also compute the **mean**  of the marginalized distribution since it is very common to consider it in literature.\n",
    "\n",
    "If we want to get the value of N that belongs to the set of parameters with **highest probability** for our model, we have to compute the **posterior distribution** , look for the set of sampled parameters that maximazes it and take the value of N from there."
   ]
  },
  {
   "cell_type": "markdown",
   "metadata": {},
   "source": [
    "| Nucleus                   \t        | Model               \t| $N_{MAP}$ \t| $N_{mean}$ \t| $\\sigma_{N_{mean}}$ \t| $N_{mode}$ \t| Lower limit \t| Upper limit \t|\n",
    "|---------------------------\t|---------------------\t|-----------\t|------------\t|----------\t|----------\t|-------------\t|-------------\t|\n",
    "| $^{241\\!\\,}Am$            \t  | Gaussian + Sigmoid  \t|         168633  \t|   169130\t         \t|   693       \t|         169250\t \t|        168446     \t|      169801       \t|\n",
    "| $^{137\\!\\,}Cs$             \t  | Gaussian + Sigmoid \t|     503681      \t|   503635\t         \t|    731      \t|          \t    503750\t        \t|       \t502869      \t| 504322\n",
    "| $^{60\\!\\,}Co_{1} $ \t      | Gaussian + Exp      \t|   179436        \t|  179468          \t| 426         \t|  179500      \t|    179031        \t |        179875      \t|\n",
    "| $^{60\\!\\,}Co_{2}  $   \t  | Gaussian + Exp      \t|   \t\t163803        \t|     162879     \t| 406          \t|  162900\t       \t|   162437          \t|        163247     \t|\n",
    "| Double absorption       \t| Gaussian + Exp      \t|  11468         \t|    11464\t      \t|     108     \t| 11475         \t|       11373      \t|      11589       "
   ]
  },
  {
   "cell_type": "markdown",
   "metadata": {},
   "source": [
    "| Nucleus                   \t| N via Routti-Proussin Integration  | \n",
    "|---------------------------\t|---------------------\t\n",
    "| $^{241\\!\\,}Am$            \t|          175067                    |\n",
    "| $^{137\\!\\,}Cs$             \t|          506239              |"
   ]
  },
  {
   "cell_type": "markdown",
   "metadata": {},
   "source": [
    "Since it is the only quantity we have a true estimate of, we also show the values of energy corresponding to the $\\mu$ of the Gaussians, i.e. the energy value at which we get the maximum value of the peak, and compare it with its well known theoretical value [2].\n",
    "\n",
    "Looking at the marginalized distributions of $\\mu$ we can recognize an approximately Gaussian behaviour; for this reason we used the $z$-test to check for compatibility with the thoeretical value. A more rigorous approach would be first check for compatibility of the marginalized distributions with the Gaussian one using for example a fit and an hypothesis test. "
   ]
  },
  {
   "cell_type": "markdown",
   "metadata": {},
   "source": [
    "| Nucleus                     | Model            | $E_{The}$ [KeV] |$\\mu$  [KeV]|$\\sigma_{\\mu}$ | $z_{test}$| \n",
    "|---------------------------  |------------------|-----------------|-----------\t|------------\t|----------\t|\n",
    "| $^{241\\!\\,}Am$              | Gaussian + Sigmoid\t     |        59.541       |  58        |1       |1.5|\n",
    "| $^{137\\!\\,}Cs$              | Gaussian + Sigmoid \t     |   \t  661.659      |  661.6       |0.8       |0.07|\n",
    "| $^{60\\!\\,}Co_{1} $ \t      | Gaussian + Exp   |        1173.240 \t   |  1174.0      |0.7      |1.1 |\n",
    "| $^{60\\!\\,}Co_{2}  $   \t  | Gaussian + Exp   |   \t  1332.508     |  1333.6      |0.7       |1.6|\n",
    "| Double absorption       \t  | Gaussian + Exp   |        2505.748 \t   |  2505  \t|1       |0.7|"
   ]
  },
  {
   "cell_type": "markdown",
   "metadata": {},
   "source": [
    "# REFERENCE"
   ]
  },
  {
   "cell_type": "markdown",
   "metadata": {},
   "source": [
    "[1] [R.G. Helmer, M.A. Lee, Analytical functions for fitting peaks from Ge semiconductor detectors](https://www.sciencedirect.com/science/article/abs/pii/0029554X80908307)\n",
    "\n",
    "[2] [Laboratoire national Henri Becquerel, tables of eveluated data on radioactive nuclides](http://www.nucleide.org/DDEP_WG/DDEPdata.htm) "
   ]
  }
 ],
 "metadata": {
  "kernelspec": {
   "display_name": "R",
   "language": "R",
   "name": "ir"
  },
  "language_info": {
   "codemirror_mode": "r",
   "file_extension": ".r",
   "mimetype": "text/x-r-source",
   "name": "R",
   "pygments_lexer": "r",
   "version": "3.5.1"
  },
  "latex_envs": {
   "LaTeX_envs_menu_present": true,
   "autoclose": false,
   "autocomplete": true,
   "bibliofile": "biblio.bib",
   "cite_by": "apalike",
   "current_citInitial": 1,
   "eqLabelWithNumbers": true,
   "eqNumInitial": 1,
   "hotkeys": {
    "equation": "Ctrl-E",
    "itemize": "Ctrl-I"
   },
   "labels_anchors": false,
   "latex_user_defs": false,
   "report_style_numbering": false,
   "user_envs_cfg": false
  },
  "toc": {
   "base_numbering": 1,
   "nav_menu": {},
   "number_sections": true,
   "sideBar": true,
   "skip_h1_title": false,
   "title_cell": "Table of Contents",
   "title_sidebar": "Contents",
   "toc_cell": false,
   "toc_position": {
    "height": "calc(100% - 180px)",
    "left": "10px",
    "top": "150px",
    "width": "165px"
   },
   "toc_section_display": true,
   "toc_window_display": true
  }
 },
 "nbformat": 4,
 "nbformat_minor": 2
}
